{
 "cells": [
  {
   "cell_type": "markdown",
   "metadata": {
    "id": "Kz-KlsICg0wz"
   },
   "source": [
    "Adding path to drive folder"
   ]
  },
  {
   "cell_type": "code",
   "execution_count": 6,
   "metadata": {
    "colab": {
     "base_uri": "https://localhost:8080/"
    },
    "id": "2NcT7SGpfkO8",
    "outputId": "aba5a61e-c0b4-49ba-aed1-42847503acb5"
   },
   "outputs": [
    {
     "name": "stdout",
     "output_type": "stream",
     "text": [
      "Mounted at /content/drive\n"
     ]
    }
   ],
   "source": [
    "from google.colab import drive\n",
    "drive.mount('/content/drive')"
   ]
  },
  {
   "cell_type": "markdown",
   "metadata": {
    "id": "hUOzdbh_hIgq"
   },
   "source": [
    "Importing Relevant Libraries"
   ]
  },
  {
   "cell_type": "code",
   "execution_count": 3,
   "metadata": {
    "id": "_guZp_KVgLF-"
   },
   "outputs": [],
   "source": [
    "path='/content/drive/MyDrive/Audio_Tagging_MLSP'\n",
    "import numpy as np \n",
    "import os\n",
    "import glob\n",
    "import pandas as pd\n",
    "import librosa\n",
    "import tensorflow as tf\n",
    "from sklearn.metrics import confusion_matrix\n",
    "from keras.preprocessing import image\n",
    "from tensorflow.keras.models import load_model\n",
    "from sklearn.preprocessing import MultiLabelBinarizer\n",
    "from sklearn.metrics import accuracy_score, hamming_loss, multilabel_confusion_matrix, classification_report\n",
    "import tensorflow as tf\n",
    "from tensorflow import keras\n",
    "from tensorflow.keras.callbacks import ModelCheckpoint"
   ]
  },
  {
   "cell_type": "markdown",
   "metadata": {
    "id": "IG26Jbi2NCnl"
   },
   "source": [
    "Function to convert to multi-hot labels"
   ]
  },
  {
   "cell_type": "code",
   "execution_count": null,
   "metadata": {
    "id": "QGriKzIygXuQ"
   },
   "outputs": [],
   "source": [
    "def to_multihot(eventroll):\n",
    "    \"\"\"\n",
    "    Parameters\n",
    "    ----------\n",
    "    eventroll : np.array\n",
    "        Eventroll matrix of shape=(11, 1000).\n",
    "    \n",
    "    Returns\n",
    "    -------\n",
    "    np.array\n",
    "        A multihot vector of shape=(10,)\n",
    "    \"\"\"\n",
    "    \n",
    "    # findout active events:\n",
    "    active_events = (eventroll.sum(axis=1) >= 0.5).astype('float')\n",
    "    \n",
    "    # remove silence class:\n",
    "    return np.delete(active_events, 8)"
   ]
  },
  {
   "cell_type": "markdown",
   "metadata": {
    "id": "KGNNA0fgNLXR"
   },
   "source": [
    "Custom-written function for macro f1_score for multilabel classification"
   ]
  },
  {
   "cell_type": "code",
   "execution_count": null,
   "metadata": {
    "id": "xfdEDf2GNBE5"
   },
   "outputs": [],
   "source": [
    "def macro_f1(y, y_hat, thresh=0.1):\n",
    "    y_pred = tf.cast(tf.greater(y_hat, thresh), tf.float32)\n",
    "    tp = tf.cast(tf.math.count_nonzero(y_pred * y, axis=0), tf.float32)\n",
    "    fp = tf.cast(tf.math.count_nonzero(y_pred * (1 - y), axis=0), tf.float32)\n",
    "    fn = tf.cast(tf.math.count_nonzero((1 - y_pred) * y, axis=0), tf.float32)\n",
    "    f1 = 2*tp / (2*tp + fn + fp + 1e-16)\n",
    "    macro_f1 = tf.reduce_mean(f1)\n",
    "    return macro_f1"
   ]
  },
  {
   "cell_type": "markdown",
   "metadata": {
    "id": "LqGBpwSGNYQa"
   },
   "source": [
    "Loading Data"
   ]
  },
  {
   "cell_type": "code",
   "execution_count": 7,
   "metadata": {
    "id": "Zjys01i9guv1"
   },
   "outputs": [],
   "source": [
    "path='/content/drive/MyDrive/Audio_Tagging_MLSP'\n",
    "X_train=np.load(os.path.join(path, \"X_train.npy\"))\n",
    "X_test=np.load(os.path.join(path, \"X_test.npy\"))\n",
    "Y_train=np.load(os.path.join(path, \"Y_train.npy\"))\n",
    "Y_test=np.load(os.path.join(path, \"Y_test.npy\"))"
   ]
  },
  {
   "cell_type": "markdown",
   "metadata": {
    "id": "v_wik9YANce_"
   },
   "source": [
    "Reshaping the data"
   ]
  },
  {
   "cell_type": "code",
   "execution_count": 8,
   "metadata": {
    "colab": {
     "base_uri": "https://localhost:8080/"
    },
    "id": "jUc-h5iEhN7l",
    "outputId": "dceb3f70-d0c6-4b87-ce41-b3884f40b2a2"
   },
   "outputs": [
    {
     "data": {
      "text/plain": [
       "(2000, 64, 1000, 1)"
      ]
     },
     "execution_count": 8,
     "metadata": {},
     "output_type": "execute_result"
    }
   ],
   "source": [
    "X_train=X_train.reshape((X_train.shape[0], X_train.shape[1], X_train.shape[2], 1))\n",
    "X_train.shape\n",
    "X_test=X_test.reshape((X_test.shape[0], X_test.shape[1], X_test.shape[2], 1))\n",
    "X_test.shape"
   ]
  },
  {
   "cell_type": "markdown",
   "metadata": {
    "id": "x7b-GixWNvhU"
   },
   "source": [
    "Creating a function for the CNN model"
   ]
  },
  {
   "cell_type": "code",
   "execution_count": 2,
   "metadata": {
    "id": "7G-GaqcAhYqX"
   },
   "outputs": [],
   "source": [
    "def create_model(input_shape):\n",
    "    model = tf.keras.Sequential()\n",
    "    # 1st conv layer\n",
    "    model.add(tf.keras.layers.Conv2D(32, (3, 3), activation='relu', input_shape=input_shape))\n",
    "    model.add(tf.keras.layers.MaxPooling2D((2, 2), strides=(1, 1), padding='same'))\n",
    "    model.add(tf.keras.layers.BatchNormalization())\n",
    "\n",
    "    #2nd conv layer\n",
    "    model.add(tf.keras.layers.Conv2D(64, (2, 2), activation='relu', input_shape=input_shape))\n",
    "    model.add(tf.keras.layers.MaxPooling2D((2, 2), strides=(1, 1), padding='same'))\n",
    "    model.add(tf.keras.layers.BatchNormalization())\n",
    "    model.add(tf.keras.layers.Dropout(0.3))\n",
    "\n",
    "    # 3rd conv layer\n",
    "    model.add(tf.keras.layers.Conv2D(64, (3, 3), activation='relu', input_shape=input_shape))\n",
    "    model.add(tf.keras.layers.MaxPooling2D((2, 2), strides=(1, 1), padding='same'))\n",
    "    model.add(tf.keras.layers.BatchNormalization())\n",
    "    model.add(tf.keras.layers.Dropout(0.25))\n",
    "        \n",
    "    # 4th conv layer\n",
    "    model.add(tf.keras.layers.Conv2D(128, (3, 3), activation='relu', input_shape=input_shape))\n",
    "    model.add(tf.keras.layers.MaxPooling2D((2, 2), strides=(1, 1), padding='same'))\n",
    "    model.add(tf.keras.layers.BatchNormalization())\n",
    "    model.add(tf.keras.layers.Dropout(0.2))\n",
    "        \n",
    "    # 5th conv layer\n",
    "    model.add(tf.keras.layers.Conv2D(256, (3, 3), activation='relu', input_shape=input_shape))\n",
    "    model.add(tf.keras.layers.MaxPooling2D((2, 2), strides=(1, 1), padding='same'))\n",
    "    model.add(tf.keras.layers.BatchNormalization())\n",
    "    model.add(tf.keras.layers.GlobalMaxPooling2D())\n",
    "\n",
    "    # flatten output and feed it into dense layer\n",
    "    model.add(tf.keras.layers.Flatten())\n",
    "    model.add(tf.keras.layers.Dense(256, activation='relu'))\n",
    "\n",
    "    # output layer\n",
    "    model.add(tf.keras.layers.Dense(10, activation='sigmoid'))\n",
    "    \n",
    "    model.compile(loss='binary_crossentropy', optimizer='adam', metrics=['accuracy','AUC'])\n",
    "    \n",
    "    return model"
   ]
  },
  {
   "cell_type": "markdown",
   "metadata": {
    "id": "iAVASC6jN0lr"
   },
   "source": [
    "Defining checkpoint to save the model"
   ]
  },
  {
   "cell_type": "code",
   "execution_count": null,
   "metadata": {
    "id": "_Eo1tcTqhql8"
   },
   "outputs": [],
   "source": [
    "path='/content/drive/MyDrive/Audio_Tagging_MLSP/Final_CNN_model'\n",
    "filepath=os.path.join(path, \"./Expensive_CNN_Model_2.h5\")\n",
    "model_checkpoint_callback = tf.keras.callbacks.ModelCheckpoint(\n",
    "    filepath,\n",
    "    monitor='val_auc',\n",
    "    mode='max',\n",
    "    save_best_only=True)"
   ]
  },
  {
   "cell_type": "code",
   "execution_count": 12,
   "metadata": {
    "colab": {
     "base_uri": "https://localhost:8080/"
    },
    "id": "H49b-xhthx3G",
    "outputId": "04a0d4be-4b13-4561-e5a6-630a2c2f5d05"
   },
   "outputs": [
    {
     "name": "stdout",
     "output_type": "stream",
     "text": [
      "Model: \"sequential_1\"\n",
      "_________________________________________________________________\n",
      " Layer (type)                Output Shape              Param #   \n",
      "=================================================================\n",
      " conv2d_5 (Conv2D)           (None, 62, 998, 32)       320       \n",
      "                                                                 \n",
      " max_pooling2d_5 (MaxPooling  (None, 62, 998, 32)      0         \n",
      " 2D)                                                             \n",
      "                                                                 \n",
      " batch_normalization_5 (Batc  (None, 62, 998, 32)      128       \n",
      " hNormalization)                                                 \n",
      "                                                                 \n",
      " conv2d_6 (Conv2D)           (None, 61, 997, 64)       8256      \n",
      "                                                                 \n",
      " max_pooling2d_6 (MaxPooling  (None, 61, 997, 64)      0         \n",
      " 2D)                                                             \n",
      "                                                                 \n",
      " batch_normalization_6 (Batc  (None, 61, 997, 64)      256       \n",
      " hNormalization)                                                 \n",
      "                                                                 \n",
      " dropout_3 (Dropout)         (None, 61, 997, 64)       0         \n",
      "                                                                 \n",
      " conv2d_7 (Conv2D)           (None, 59, 995, 64)       36928     \n",
      "                                                                 \n",
      " max_pooling2d_7 (MaxPooling  (None, 59, 995, 64)      0         \n",
      " 2D)                                                             \n",
      "                                                                 \n",
      " batch_normalization_7 (Batc  (None, 59, 995, 64)      256       \n",
      " hNormalization)                                                 \n",
      "                                                                 \n",
      " dropout_4 (Dropout)         (None, 59, 995, 64)       0         \n",
      "                                                                 \n",
      " conv2d_8 (Conv2D)           (None, 57, 993, 128)      73856     \n",
      "                                                                 \n",
      " max_pooling2d_8 (MaxPooling  (None, 57, 993, 128)     0         \n",
      " 2D)                                                             \n",
      "                                                                 \n",
      " batch_normalization_8 (Batc  (None, 57, 993, 128)     512       \n",
      " hNormalization)                                                 \n",
      "                                                                 \n",
      " dropout_5 (Dropout)         (None, 57, 993, 128)      0         \n",
      "                                                                 \n",
      " conv2d_9 (Conv2D)           (None, 55, 991, 256)      295168    \n",
      "                                                                 \n",
      " max_pooling2d_9 (MaxPooling  (None, 55, 991, 256)     0         \n",
      " 2D)                                                             \n",
      "                                                                 \n",
      " batch_normalization_9 (Batc  (None, 55, 991, 256)     1024      \n",
      " hNormalization)                                                 \n",
      "                                                                 \n",
      " global_max_pooling2d_1 (Glo  (None, 256)              0         \n",
      " balMaxPooling2D)                                                \n",
      "                                                                 \n",
      " flatten_1 (Flatten)         (None, 256)               0         \n",
      "                                                                 \n",
      " dense_2 (Dense)             (None, 256)               65792     \n",
      "                                                                 \n",
      " dense_3 (Dense)             (None, 10)                2570      \n",
      "                                                                 \n",
      "=================================================================\n",
      "Total params: 485,066\n",
      "Trainable params: 483,978\n",
      "Non-trainable params: 1,088\n",
      "_________________________________________________________________\n"
     ]
    }
   ],
   "source": [
    "model = create_model(input_shape=X_train.shape[1:])\n",
    "# model = tf.keras.models.load_model('/content/drive/MyDrive/Audio_Tagging_MLSP/CNN_model.h5',custom_objects={\"macro_f1\":macro_f1})\n",
    "# model.compile(loss='binary_crossentropy', optimizer='adam', metrics=[\"accuracy\"])\n",
    "model.summary()"
   ]
  },
  {
   "cell_type": "code",
   "execution_count": null,
   "metadata": {
    "colab": {
     "base_uri": "https://localhost:8080/",
     "height": 183
    },
    "id": "MecyMYS3iTMp",
    "outputId": "28370c64-4006-4ba1-fb53-4feb020b571d"
   },
   "outputs": [
    {
     "ename": "NameError",
     "evalue": "ignored",
     "output_type": "error",
     "traceback": [
      "\u001b[0;31m---------------------------------------------------------------------------\u001b[0m",
      "\u001b[0;31mNameError\u001b[0m                                 Traceback (most recent call last)",
      "\u001b[0;32m<ipython-input-1-0e0c4846b84d>\u001b[0m in \u001b[0;36m<module>\u001b[0;34m\u001b[0m\n\u001b[0;32m----> 1\u001b[0;31m \u001b[0mhistory\u001b[0m\u001b[0;34m=\u001b[0m\u001b[0mmodel\u001b[0m\u001b[0;34m.\u001b[0m\u001b[0mfit\u001b[0m\u001b[0;34m(\u001b[0m\u001b[0mX_train\u001b[0m\u001b[0;34m,\u001b[0m \u001b[0mY_train\u001b[0m\u001b[0;34m,\u001b[0m \u001b[0mvalidation_data\u001b[0m\u001b[0;34m=\u001b[0m\u001b[0;34m(\u001b[0m\u001b[0mX_test\u001b[0m\u001b[0;34m,\u001b[0m \u001b[0mY_test\u001b[0m\u001b[0;34m)\u001b[0m\u001b[0;34m,\u001b[0m \u001b[0mbatch_size\u001b[0m\u001b[0;34m=\u001b[0m\u001b[0;36m32\u001b[0m\u001b[0;34m,\u001b[0m \u001b[0mepochs\u001b[0m\u001b[0;34m=\u001b[0m\u001b[0;36m170\u001b[0m\u001b[0;34m,\u001b[0m \u001b[0mverbose\u001b[0m \u001b[0;34m=\u001b[0m \u001b[0;36m2\u001b[0m\u001b[0;34m,\u001b[0m \u001b[0mcallbacks\u001b[0m\u001b[0;34m=\u001b[0m\u001b[0;34m[\u001b[0m\u001b[0mmodel_checkpoint_callback\u001b[0m\u001b[0;34m]\u001b[0m\u001b[0;34m)\u001b[0m\u001b[0;34m\u001b[0m\u001b[0;34m\u001b[0m\u001b[0m\n\u001b[0m",
      "\u001b[0;31mNameError\u001b[0m: name 'model' is not defined"
     ]
    }
   ],
   "source": [
    "history=model.fit(X_train, Y_train, validation_data=(X_test, Y_test), batch_size=32, epochs=170, verbose = 2, callbacks=[model_checkpoint_callback])"
   ]
  },
  {
   "cell_type": "code",
   "execution_count": null,
   "metadata": {
    "id": "N0nfh-QrGIVn"
   },
   "outputs": [],
   "source": [
    "def apply_threshold_in_predictions(Y_pred, threshold):\n",
    "  for arr in Y_pred:\n",
    "    j=0\n",
    "    for i in arr:\n",
    "      if(i>=threshold):\n",
    "        arr[j] = 1\n",
    "      else:\n",
    "        arr[j] = 0\n",
    "      j=j+1\n",
    "  \n",
    "  return Y_pred"
   ]
  },
  {
   "cell_type": "code",
   "execution_count": null,
   "metadata": {
    "id": "CPlY4ng8GPjw"
   },
   "outputs": [],
   "source": [
    "check_model = tf.keras.models.load_model('/content/drive/MyDrive/Audio_Tagging_MLSP/Final_CNN_model/Alt_CNN_Model.h5')"
   ]
  },
  {
   "cell_type": "code",
   "execution_count": 11,
   "metadata": {
    "colab": {
     "base_uri": "https://localhost:8080/",
     "height": 235
    },
    "id": "2svfl8KaGwS-",
    "outputId": "38b23c32-ed24-453c-c814-ddf19fcb277f"
   },
   "outputs": [
    {
     "ename": "NameError",
     "evalue": "ignored",
     "output_type": "error",
     "traceback": [
      "\u001b[0;31m---------------------------------------------------------------------------\u001b[0m",
      "\u001b[0;31mNameError\u001b[0m                                 Traceback (most recent call last)",
      "\u001b[0;32m<ipython-input-11-4fd3a9f488e0>\u001b[0m in \u001b[0;36m<module>\u001b[0;34m\u001b[0m\n\u001b[1;32m      1\u001b[0m \u001b[0;32mfrom\u001b[0m \u001b[0mmatplotlib\u001b[0m \u001b[0;32mimport\u001b[0m \u001b[0mpyplot\u001b[0m \u001b[0;32mas\u001b[0m \u001b[0mplt\u001b[0m\u001b[0;34m\u001b[0m\u001b[0;34m\u001b[0m\u001b[0m\n\u001b[1;32m      2\u001b[0m \u001b[0mmodel\u001b[0m\u001b[0;34m.\u001b[0m\u001b[0mmetrics_names\u001b[0m\u001b[0;34m\u001b[0m\u001b[0;34m\u001b[0m\u001b[0m\n\u001b[0;32m----> 3\u001b[0;31m \u001b[0mplt\u001b[0m\u001b[0;34m.\u001b[0m\u001b[0mplot\u001b[0m\u001b[0;34m(\u001b[0m\u001b[0mhistory\u001b[0m\u001b[0;34m.\u001b[0m\u001b[0mhistory\u001b[0m\u001b[0;34m[\u001b[0m\u001b[0;34m'auc'\u001b[0m\u001b[0;34m]\u001b[0m\u001b[0;34m)\u001b[0m\u001b[0;34m\u001b[0m\u001b[0;34m\u001b[0m\u001b[0m\n\u001b[0m\u001b[1;32m      4\u001b[0m \u001b[0mplt\u001b[0m\u001b[0;34m.\u001b[0m\u001b[0mplot\u001b[0m\u001b[0;34m(\u001b[0m\u001b[0mhistory\u001b[0m\u001b[0;34m.\u001b[0m\u001b[0mhistory\u001b[0m\u001b[0;34m[\u001b[0m\u001b[0;34m'val_auc'\u001b[0m\u001b[0;34m]\u001b[0m\u001b[0;34m)\u001b[0m\u001b[0;34m\u001b[0m\u001b[0;34m\u001b[0m\u001b[0m\n\u001b[1;32m      5\u001b[0m \u001b[0mplt\u001b[0m\u001b[0;34m.\u001b[0m\u001b[0mtitle\u001b[0m\u001b[0;34m(\u001b[0m\u001b[0;34m'model training'\u001b[0m\u001b[0;34m)\u001b[0m\u001b[0;34m\u001b[0m\u001b[0;34m\u001b[0m\u001b[0m\n",
      "\u001b[0;31mNameError\u001b[0m: name 'history' is not defined"
     ]
    }
   ],
   "source": [
    "from matplotlib import pyplot as plt\n",
    "model.metrics_names\n",
    "plt.plot(history.history['auc'])\n",
    "plt.plot(history.history['val_auc'])\n",
    "plt.title('model training')\n",
    "plt.ylabel('AUC')\n",
    "plt.xlabel('epoch')\n",
    "plt.legend(['train', 'val'], loc='upper left')\n",
    "plt.show()\n",
    "plt.plot(history.history['loss'])\n",
    "plt.plot(history.history['val_loss'])\n",
    "plt.title('model loss')\n",
    "plt.ylabel('loss')\n",
    "plt.xlabel('epoch')\n",
    "plt.legend(['train', 'val'], loc='upper left')\n",
    "plt.show()"
   ]
  },
  {
   "cell_type": "code",
   "execution_count": null,
   "metadata": {
    "colab": {
     "base_uri": "https://localhost:8080/"
    },
    "id": "cRdX5x5RHldS",
    "outputId": "89afd4a7-dcc1-473e-92ba-e9fb86392a98"
   },
   "outputs": [
    {
     "name": "stdout",
     "output_type": "stream",
     "text": [
      "63/63 [==============================] - 3s 46ms/step\n"
     ]
    }
   ],
   "source": [
    "Y_pred = check_model.predict(X_test)"
   ]
  },
  {
   "cell_type": "code",
   "execution_count": 10,
   "metadata": {
    "colab": {
     "base_uri": "https://localhost:8080/",
     "height": 201
    },
    "id": "DOv7xJu9HsHq",
    "outputId": "0a1336b6-83b8-4701-ed32-e354e605863b"
   },
   "outputs": [
    {
     "ename": "NameError",
     "evalue": "ignored",
     "output_type": "error",
     "traceback": [
      "\u001b[0;31m---------------------------------------------------------------------------\u001b[0m",
      "\u001b[0;31mNameError\u001b[0m                                 Traceback (most recent call last)",
      "\u001b[0;32m<ipython-input-10-03a97d59580e>\u001b[0m in \u001b[0;36m<module>\u001b[0;34m\u001b[0m\n\u001b[1;32m      1\u001b[0m \u001b[0;32mfrom\u001b[0m \u001b[0msklearn\u001b[0m\u001b[0;34m.\u001b[0m\u001b[0mmetrics\u001b[0m \u001b[0;32mimport\u001b[0m \u001b[0mclassification_report\u001b[0m\u001b[0;34m\u001b[0m\u001b[0;34m\u001b[0m\u001b[0m\n\u001b[0;32m----> 2\u001b[0;31m \u001b[0mprint\u001b[0m\u001b[0;34m(\u001b[0m\u001b[0mapply_threshold_in_predictions\u001b[0m\u001b[0;34m(\u001b[0m\u001b[0mY_pred\u001b[0m\u001b[0;34m,\u001b[0m \u001b[0;36m0.7\u001b[0m\u001b[0;34m)\u001b[0m\u001b[0;34m)\u001b[0m\u001b[0;34m\u001b[0m\u001b[0;34m\u001b[0m\u001b[0m\n\u001b[0m\u001b[1;32m      3\u001b[0m \u001b[0mprint\u001b[0m\u001b[0;34m(\u001b[0m\u001b[0mclassification_report\u001b[0m\u001b[0;34m(\u001b[0m\u001b[0mY_test\u001b[0m\u001b[0;34m,\u001b[0m \u001b[0mY_pred\u001b[0m\u001b[0;34m)\u001b[0m\u001b[0;34m)\u001b[0m\u001b[0;34m\u001b[0m\u001b[0;34m\u001b[0m\u001b[0m\n",
      "\u001b[0;31mNameError\u001b[0m: name 'apply_threshold_in_predictions' is not defined"
     ]
    }
   ],
   "source": [
    "from sklearn.metrics import classification_report\n",
    "print(apply_threshold_in_predictions(Y_pred, 0.5))\n",
    "print(classification_report(Y_test, Y_pred))"
   ]
  }
 ],
 "metadata": {
  "accelerator": "GPU",
  "colab": {
   "provenance": []
  },
  "gpuClass": "standard",
  "kernelspec": {
   "display_name": "Python 3 (ipykernel)",
   "language": "python",
   "name": "python3"
  },
  "language_info": {
   "codemirror_mode": {
    "name": "ipython",
    "version": 3
   },
   "file_extension": ".py",
   "mimetype": "text/x-python",
   "name": "python",
   "nbconvert_exporter": "python",
   "pygments_lexer": "ipython3",
   "version": "3.9.12"
  }
 },
 "nbformat": 4,
 "nbformat_minor": 1
}
