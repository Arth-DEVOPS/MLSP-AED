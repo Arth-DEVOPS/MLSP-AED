{
  "nbformat": 4,
  "nbformat_minor": 0,
  "metadata": {
    "colab": {
      "provenance": []
    },
    "kernelspec": {
      "name": "python3",
      "display_name": "Python 3"
    },
    "language_info": {
      "name": "python"
    },
    "accelerator": "GPU",
    "gpuClass": "standard"
  },
  "cells": [
    {
      "cell_type": "code",
      "execution_count": null,
      "metadata": {
        "colab": {
          "base_uri": "https://localhost:8080/"
        },
        "id": "8YfdDbQfdlbS",
        "outputId": "8fafcac2-6b11-42bd-cf9e-c37924601c31"
      },
      "outputs": [
        {
          "output_type": "stream",
          "name": "stdout",
          "text": [
            "Drive already mounted at /content/drive; to attempt to forcibly remount, call drive.mount(\"/content/drive\", force_remount=True).\n"
          ]
        }
      ],
      "source": [
        "from google.colab import drive\n",
        "drive.mount('/content/drive')"
      ]
    },
    {
      "cell_type": "code",
      "source": [
        "path='/content/drive/MyDrive/Audio_Tagging_MLSP'\n",
        "import numpy as np \n",
        "import os\n",
        "import glob\n",
        "import pandas as pd\n",
        "import librosa\n",
        "import tensorflow as tf\n",
        "from sklearn.metrics import confusion_matrix\n",
        "from keras.preprocessing import image\n",
        "from tensorflow.keras.models import load_model\n",
        "from sklearn.preprocessing import MultiLabelBinarizer\n",
        "from sklearn.metrics import accuracy_score, hamming_loss, multilabel_confusion_matrix, classification_report\n",
        "import tensorflow as tf\n",
        "from tensorflow import keras\n",
        "from tensorflow.keras.callbacks import ModelCheckpoint"
      ],
      "metadata": {
        "id": "Mdd0IZvJdoL5"
      },
      "execution_count": null,
      "outputs": []
    },
    {
      "cell_type": "code",
      "source": [
        "def to_multihot(eventroll):\n",
        "    \"\"\"\n",
        "    Parameters\n",
        "    ----------\n",
        "    eventroll : np.array\n",
        "        Eventroll matrix of shape=(11, 1000).\n",
        "    \n",
        "    Returns\n",
        "    -------\n",
        "    np.array\n",
        "        A multihot vector of shape=(10,)\n",
        "    \"\"\"\n",
        "    \n",
        "    # findout active events:\n",
        "    active_events = (eventroll.sum(axis=1) >= 0.5).astype('float')\n",
        "    \n",
        "    # remove silence class:\n",
        "    return np.delete(active_events, 8)"
      ],
      "metadata": {
        "id": "U9nX6uczdqUS"
      },
      "execution_count": null,
      "outputs": []
    },
    {
      "cell_type": "code",
      "source": [
        "path='/content/drive/MyDrive/Audio_Tagging_MLSP'\n",
        "X_train=np.load(os.path.join(path, \"X_train.npy\"))\n",
        "X_test=np.load(os.path.join(path, \"X_test.npy\"))\n",
        "Y_train=np.load(os.path.join(path, \"Y_train.npy\"))\n",
        "Y_test=np.load(os.path.join(path, \"Y_test.npy\"))"
      ],
      "metadata": {
        "id": "yM07WfKvdsek"
      },
      "execution_count": null,
      "outputs": []
    },
    {
      "cell_type": "code",
      "source": [
        "X_train=X_train.reshape((X_train.shape[0], X_train.shape[1], X_train.shape[2], 1))\n",
        "X_train.shape\n",
        "X_test=X_test.reshape((X_test.shape[0], X_test.shape[1], X_test.shape[2], 1))\n",
        "X_test.shape"
      ],
      "metadata": {
        "colab": {
          "base_uri": "https://localhost:8080/"
        },
        "id": "3quUnd_bdvWX",
        "outputId": "7a4a154d-f487-4a76-e40f-49e73f53c845"
      },
      "execution_count": null,
      "outputs": [
        {
          "output_type": "execute_result",
          "data": {
            "text/plain": [
              "(2000, 64, 1000, 1)"
            ]
          },
          "metadata": {},
          "execution_count": 6
        }
      ]
    },
    {
      "cell_type": "code",
      "source": [
        "def macro_f1(y, y_hat, thresh=0.1):\n",
        "    \"\"\"Compute the macro F1-score on a batch of observations (average F1 across labels)\n",
        "    \n",
        "    Args:\n",
        "        y (int32 Tensor): labels array of shape (BATCH_SIZE, N_LABELS)\n",
        "        y_hat (float32 Tensor): probability matrix from forward propagation of shape (BATCH_SIZE, N_LABELS)\n",
        "        thresh: probability value above which we predict positive\n",
        "        \n",
        "    Returns:\n",
        "        macro_f1 (scalar Tensor): value of macro F1 for the batch\n",
        "    \"\"\"\n",
        "    y_pred = tf.cast(tf.greater(y_hat, thresh), tf.float32)\n",
        "    tp = tf.cast(tf.math.count_nonzero(y_pred * y, axis=0), tf.float32)\n",
        "    fp = tf.cast(tf.math.count_nonzero(y_pred * (1 - y), axis=0), tf.float32)\n",
        "    fn = tf.cast(tf.math.count_nonzero((1 - y_pred) * y, axis=0), tf.float32)\n",
        "    f1 = 2*tp / (2*tp + fn + fp + 1e-16)\n",
        "    macro_f1 = tf.reduce_mean(f1)\n",
        "    return macro_f1"
      ],
      "metadata": {
        "id": "AceJmYzBdys3"
      },
      "execution_count": null,
      "outputs": []
    },
    {
      "cell_type": "code",
      "source": [
        "def multi_label_classifier(input_shape):\n",
        "    print(input_shape) \n",
        "#     inputs = tf.keras.Input(shape=input_shape)\n",
        "    num_classes = 10 # categories of sound\n",
        "    model = keras.models.Sequential()\n",
        "    # input layer\n",
        "    model.add(keras.layers.Flatten(input_shape = input_shape)),\n",
        "    \n",
        "    # first hidden layer\n",
        "    model.add(keras.layers.Dense(1024, activation=\"relu\")),\n",
        "    \n",
        "    # second hidden layer\n",
        "    model.add(keras.layers.Dense(512, activation=\"relu\")),\n",
        "    \n",
        "    # third hidden layer\n",
        "    model.add(keras.layers.Dense(256, activation=\"relu\")),\n",
        "    \n",
        "    # fourth hidden layer\n",
        "    model.add(keras.layers.Dense(128, activation=\"relu\"))\n",
        "    \n",
        "    # output layer\n",
        "    model.add(keras.layers.Dense(num_classes, activation='sigmoid')),\n",
        "  \n",
        "    model.compile(optimizer=keras.optimizers.Adam(1e-4), \n",
        "        loss='binary_crossentropy', # one-hot encoding for binary arrays\n",
        "        metrics=[macro_f1]) # provides better estimates of accuracy for one-hot labels\n",
        "    return model"
      ],
      "metadata": {
        "id": "KuyGftyud1ZJ"
      },
      "execution_count": null,
      "outputs": []
    },
    {
      "cell_type": "code",
      "source": [
        "path='/content/drive/MyDrive/Audio_Tagging_MLSP/NN_model'\n",
        "filepath=os.path.join(path, \"./thresh_0.1_NN_model.h5\")\n",
        "model_checkpoint_callback = tf.keras.callbacks.ModelCheckpoint(\n",
        "    filepath,\n",
        "    monitor='macro_f1',\n",
        "    mode='max',\n",
        "    save_best_only=True,\n",
        "    )"
      ],
      "metadata": {
        "id": "1SGGyAjHes6v"
      },
      "execution_count": null,
      "outputs": []
    },
    {
      "cell_type": "code",
      "source": [
        "from matplotlib import pyplot as plt\n",
        "# model = multi_label_classifier(input_shape=X_train.shape[1:])\n",
        "model = tf.keras.models.load_model('/content/drive/MyDrive/Audio_Tagging_MLSP/NN_model/thresh_0.1_NN_model47.h5',custom_objects={\"macro_f1\":macro_f1})\n",
        "# model.compile(loss='binary_crossentropy', optimizer='adam', metrics=[\"accuracy\"])\n",
        "model.summary()"
      ],
      "metadata": {
        "colab": {
          "base_uri": "https://localhost:8080/"
        },
        "id": "Nyd4pYomfadL",
        "outputId": "0259bb65-80d0-4238-afe9-c7eb8d1df332"
      },
      "execution_count": null,
      "outputs": [
        {
          "output_type": "stream",
          "name": "stdout",
          "text": [
            "Model: \"sequential\"\n",
            "_________________________________________________________________\n",
            " Layer (type)                Output Shape              Param #   \n",
            "=================================================================\n",
            " flatten (Flatten)           (None, 64000)             0         \n",
            "                                                                 \n",
            " dense (Dense)               (None, 1024)              65537024  \n",
            "                                                                 \n",
            " dense_1 (Dense)             (None, 512)               524800    \n",
            "                                                                 \n",
            " dense_2 (Dense)             (None, 256)               131328    \n",
            "                                                                 \n",
            " dense_3 (Dense)             (None, 128)               32896     \n",
            "                                                                 \n",
            " dense_4 (Dense)             (None, 10)                1290      \n",
            "                                                                 \n",
            "=================================================================\n",
            "Total params: 66,227,338\n",
            "Trainable params: 66,227,338\n",
            "Non-trainable params: 0\n",
            "_________________________________________________________________\n"
          ]
        }
      ]
    },
    {
      "cell_type": "code",
      "source": [
        "history=model.fit(X_train, Y_train, validation_data=(X_test, Y_test), batch_size=32, epochs=80, verbose = 2, callbacks=[model_checkpoint_callback])"
      ],
      "metadata": {
        "colab": {
          "base_uri": "https://localhost:8080/"
        },
        "id": "SmDt-BCvffF4",
        "outputId": "25267735-a5f5-40f3-e5aa-2013c5431abd"
      },
      "execution_count": null,
      "outputs": [
        {
          "output_type": "stream",
          "name": "stdout",
          "text": [
            "Epoch 1/80\n",
            "313/313 - 12s - loss: 0.0363 - macro_f1: 0.9136 - val_loss: 1.5402 - val_macro_f1: 0.1977 - 12s/epoch - 38ms/step\n",
            "Epoch 2/80\n",
            "313/313 - 7s - loss: 0.0381 - macro_f1: 0.9119 - val_loss: 1.5903 - val_macro_f1: 0.1921 - 7s/epoch - 23ms/step\n",
            "Epoch 3/80\n",
            "313/313 - 10s - loss: 0.0291 - macro_f1: 0.9208 - val_loss: 1.6918 - val_macro_f1: 0.1961 - 10s/epoch - 33ms/step\n",
            "Epoch 4/80\n",
            "313/313 - 11s - loss: 0.0224 - macro_f1: 0.9385 - val_loss: 1.6369 - val_macro_f1: 0.1897 - 11s/epoch - 35ms/step\n",
            "Epoch 5/80\n",
            "313/313 - 7s - loss: 0.0370 - macro_f1: 0.9121 - val_loss: 1.6894 - val_macro_f1: 0.1892 - 7s/epoch - 22ms/step\n",
            "Epoch 6/80\n",
            "313/313 - 6s - loss: 0.0322 - macro_f1: 0.9225 - val_loss: 1.7345 - val_macro_f1: 0.1954 - 6s/epoch - 19ms/step\n",
            "Epoch 7/80\n",
            "313/313 - 6s - loss: 0.0296 - macro_f1: 0.9221 - val_loss: 1.7419 - val_macro_f1: 0.1863 - 6s/epoch - 19ms/step\n",
            "Epoch 8/80\n",
            "313/313 - 6s - loss: 0.0341 - macro_f1: 0.9211 - val_loss: 1.7521 - val_macro_f1: 0.1916 - 6s/epoch - 21ms/step\n",
            "Epoch 9/80\n",
            "313/313 - 6s - loss: 0.0236 - macro_f1: 0.9358 - val_loss: 1.8573 - val_macro_f1: 0.1910 - 6s/epoch - 19ms/step\n",
            "Epoch 10/80\n",
            "313/313 - 10s - loss: 0.0204 - macro_f1: 0.9386 - val_loss: 1.8031 - val_macro_f1: 0.1944 - 10s/epoch - 32ms/step\n",
            "Epoch 11/80\n",
            "313/313 - 10s - loss: 0.0192 - macro_f1: 0.9454 - val_loss: 1.7869 - val_macro_f1: 0.1927 - 10s/epoch - 32ms/step\n",
            "Epoch 12/80\n",
            "313/313 - 7s - loss: 0.0245 - macro_f1: 0.9370 - val_loss: 1.7804 - val_macro_f1: 0.1949 - 7s/epoch - 21ms/step\n",
            "Epoch 13/80\n",
            "313/313 - 6s - loss: 0.0283 - macro_f1: 0.9285 - val_loss: 1.8106 - val_macro_f1: 0.1863 - 6s/epoch - 20ms/step\n",
            "Epoch 14/80\n",
            "313/313 - 7s - loss: 0.0266 - macro_f1: 0.9351 - val_loss: 1.9110 - val_macro_f1: 0.1950 - 7s/epoch - 24ms/step\n",
            "Epoch 15/80\n",
            "313/313 - 7s - loss: 0.0303 - macro_f1: 0.9257 - val_loss: 1.9622 - val_macro_f1: 0.1938 - 7s/epoch - 22ms/step\n",
            "Epoch 16/80\n",
            "313/313 - 7s - loss: 0.0231 - macro_f1: 0.9416 - val_loss: 1.9127 - val_macro_f1: 0.1850 - 7s/epoch - 21ms/step\n",
            "Epoch 17/80\n",
            "313/313 - 22s - loss: 0.0196 - macro_f1: 0.9486 - val_loss: 1.9045 - val_macro_f1: 0.1906 - 22s/epoch - 71ms/step\n",
            "Epoch 18/80\n",
            "313/313 - 8s - loss: 0.0216 - macro_f1: 0.9426 - val_loss: 1.9846 - val_macro_f1: 0.1855 - 8s/epoch - 26ms/step\n",
            "Epoch 19/80\n",
            "313/313 - 7s - loss: 0.0218 - macro_f1: 0.9427 - val_loss: 1.9486 - val_macro_f1: 0.1933 - 7s/epoch - 21ms/step\n",
            "Epoch 20/80\n",
            "313/313 - 7s - loss: 0.0278 - macro_f1: 0.9316 - val_loss: 1.8137 - val_macro_f1: 0.2014 - 7s/epoch - 22ms/step\n",
            "Epoch 21/80\n",
            "313/313 - 7s - loss: 0.0179 - macro_f1: 0.9476 - val_loss: 2.0715 - val_macro_f1: 0.1918 - 7s/epoch - 21ms/step\n",
            "Epoch 22/80\n",
            "313/313 - 7s - loss: 0.0206 - macro_f1: 0.9465 - val_loss: 2.0301 - val_macro_f1: 0.1862 - 7s/epoch - 21ms/step\n",
            "Epoch 23/80\n",
            "313/313 - 7s - loss: 0.0231 - macro_f1: 0.9383 - val_loss: 2.1219 - val_macro_f1: 0.1850 - 7s/epoch - 22ms/step\n",
            "Epoch 24/80\n",
            "313/313 - 12s - loss: 0.0195 - macro_f1: 0.9500 - val_loss: 2.0995 - val_macro_f1: 0.1896 - 12s/epoch - 37ms/step\n",
            "Epoch 25/80\n",
            "313/313 - 7s - loss: 0.0230 - macro_f1: 0.9430 - val_loss: 1.9997 - val_macro_f1: 0.1951 - 7s/epoch - 23ms/step\n",
            "Epoch 26/80\n",
            "313/313 - 10s - loss: 0.0117 - macro_f1: 0.9602 - val_loss: 2.1060 - val_macro_f1: 0.1873 - 10s/epoch - 33ms/step\n",
            "Epoch 27/80\n",
            "313/313 - 10s - loss: 0.0072 - macro_f1: 0.9676 - val_loss: 2.1817 - val_macro_f1: 0.1805 - 10s/epoch - 32ms/step\n",
            "Epoch 28/80\n",
            "313/313 - 6s - loss: 0.0325 - macro_f1: 0.9350 - val_loss: 2.2154 - val_macro_f1: 0.1850 - 6s/epoch - 19ms/step\n",
            "Epoch 29/80\n",
            "313/313 - 6s - loss: 0.0330 - macro_f1: 0.9301 - val_loss: 2.1945 - val_macro_f1: 0.1894 - 6s/epoch - 19ms/step\n",
            "Epoch 30/80\n",
            "313/313 - 6s - loss: 0.0131 - macro_f1: 0.9555 - val_loss: 2.2261 - val_macro_f1: 0.1934 - 6s/epoch - 19ms/step\n",
            "Epoch 31/80\n",
            "313/313 - 6s - loss: 0.0102 - macro_f1: 0.9647 - val_loss: 2.1384 - val_macro_f1: 0.1901 - 6s/epoch - 19ms/step\n",
            "Epoch 32/80\n",
            "313/313 - 6s - loss: 0.0127 - macro_f1: 0.9556 - val_loss: 2.1773 - val_macro_f1: 0.1900 - 6s/epoch - 19ms/step\n",
            "Epoch 33/80\n",
            "313/313 - 6s - loss: 0.0280 - macro_f1: 0.9401 - val_loss: 2.2302 - val_macro_f1: 0.1835 - 6s/epoch - 19ms/step\n",
            "Epoch 34/80\n",
            "313/313 - 6s - loss: 0.0178 - macro_f1: 0.9540 - val_loss: 2.2393 - val_macro_f1: 0.1906 - 6s/epoch - 20ms/step\n",
            "Epoch 35/80\n",
            "313/313 - 6s - loss: 0.0145 - macro_f1: 0.9598 - val_loss: 2.2296 - val_macro_f1: 0.1858 - 6s/epoch - 19ms/step\n",
            "Epoch 36/80\n",
            "313/313 - 6s - loss: 0.0172 - macro_f1: 0.9521 - val_loss: 2.2148 - val_macro_f1: 0.1845 - 6s/epoch - 19ms/step\n",
            "Epoch 37/80\n",
            "313/313 - 6s - loss: 0.0180 - macro_f1: 0.9473 - val_loss: 2.4182 - val_macro_f1: 0.1879 - 6s/epoch - 19ms/step\n",
            "Epoch 38/80\n",
            "313/313 - 6s - loss: 0.0127 - macro_f1: 0.9631 - val_loss: 2.1023 - val_macro_f1: 0.1785 - 6s/epoch - 19ms/step\n",
            "Epoch 39/80\n",
            "313/313 - 6s - loss: 0.0163 - macro_f1: 0.9519 - val_loss: 2.2255 - val_macro_f1: 0.1908 - 6s/epoch - 19ms/step\n",
            "Epoch 40/80\n",
            "313/313 - 6s - loss: 0.0212 - macro_f1: 0.9490 - val_loss: 2.3788 - val_macro_f1: 0.1855 - 6s/epoch - 19ms/step\n",
            "Epoch 41/80\n",
            "313/313 - 6s - loss: 0.0215 - macro_f1: 0.9495 - val_loss: 2.1813 - val_macro_f1: 0.1855 - 6s/epoch - 19ms/step\n",
            "Epoch 42/80\n",
            "313/313 - 6s - loss: 0.0121 - macro_f1: 0.9554 - val_loss: 2.4337 - val_macro_f1: 0.1850 - 6s/epoch - 20ms/step\n",
            "Epoch 43/80\n",
            "313/313 - 6s - loss: 0.0202 - macro_f1: 0.9526 - val_loss: 2.3016 - val_macro_f1: 0.1700 - 6s/epoch - 19ms/step\n",
            "Epoch 44/80\n",
            "313/313 - 6s - loss: 0.0156 - macro_f1: 0.9536 - val_loss: 2.3418 - val_macro_f1: 0.1814 - 6s/epoch - 19ms/step\n",
            "Epoch 45/80\n",
            "313/313 - 7s - loss: 0.0123 - macro_f1: 0.9643 - val_loss: 2.3277 - val_macro_f1: 0.1789 - 7s/epoch - 22ms/step\n",
            "Epoch 46/80\n",
            "313/313 - 7s - loss: 0.0169 - macro_f1: 0.9534 - val_loss: 2.4265 - val_macro_f1: 0.1776 - 7s/epoch - 22ms/step\n",
            "Epoch 47/80\n",
            "313/313 - 6s - loss: 0.0226 - macro_f1: 0.9498 - val_loss: 2.3189 - val_macro_f1: 0.1850 - 6s/epoch - 21ms/step\n",
            "Epoch 48/80\n",
            "313/313 - 29s - loss: 0.0065 - macro_f1: 0.9712 - val_loss: 2.4592 - val_macro_f1: 0.1887 - 29s/epoch - 94ms/step\n",
            "Epoch 49/80\n",
            "313/313 - 6s - loss: 0.0161 - macro_f1: 0.9597 - val_loss: 2.4646 - val_macro_f1: 0.1880 - 6s/epoch - 20ms/step\n",
            "Epoch 50/80\n",
            "313/313 - 7s - loss: 0.0197 - macro_f1: 0.9520 - val_loss: 2.5092 - val_macro_f1: 0.1828 - 7s/epoch - 23ms/step\n",
            "Epoch 51/80\n",
            "313/313 - 6s - loss: 0.0193 - macro_f1: 0.9555 - val_loss: 2.4040 - val_macro_f1: 0.1908 - 6s/epoch - 20ms/step\n",
            "Epoch 52/80\n",
            "313/313 - 6s - loss: 0.0082 - macro_f1: 0.9675 - val_loss: 2.4487 - val_macro_f1: 0.1847 - 6s/epoch - 19ms/step\n",
            "Epoch 53/80\n",
            "313/313 - 14s - loss: 0.0097 - macro_f1: 0.9726 - val_loss: 2.4996 - val_macro_f1: 0.1845 - 14s/epoch - 45ms/step\n",
            "Epoch 54/80\n",
            "313/313 - 6s - loss: 0.0160 - macro_f1: 0.9620 - val_loss: 2.4036 - val_macro_f1: 0.1927 - 6s/epoch - 19ms/step\n",
            "Epoch 55/80\n",
            "313/313 - 7s - loss: 0.0159 - macro_f1: 0.9525 - val_loss: 2.6950 - val_macro_f1: 0.1825 - 7s/epoch - 22ms/step\n",
            "Epoch 56/80\n",
            "313/313 - 6s - loss: 0.0238 - macro_f1: 0.9487 - val_loss: 2.5212 - val_macro_f1: 0.1866 - 6s/epoch - 20ms/step\n",
            "Epoch 57/80\n",
            "313/313 - 6s - loss: 0.0082 - macro_f1: 0.9706 - val_loss: 2.4806 - val_macro_f1: 0.1852 - 6s/epoch - 19ms/step\n",
            "Epoch 58/80\n",
            "313/313 - 6s - loss: 0.0097 - macro_f1: 0.9678 - val_loss: 2.5222 - val_macro_f1: 0.1818 - 6s/epoch - 19ms/step\n",
            "Epoch 59/80\n",
            "313/313 - 6s - loss: 0.0084 - macro_f1: 0.9712 - val_loss: 2.4553 - val_macro_f1: 0.1882 - 6s/epoch - 19ms/step\n",
            "Epoch 60/80\n",
            "313/313 - 6s - loss: 0.0127 - macro_f1: 0.9660 - val_loss: 2.5945 - val_macro_f1: 0.1876 - 6s/epoch - 19ms/step\n",
            "Epoch 61/80\n",
            "313/313 - 6s - loss: 0.0279 - macro_f1: 0.9462 - val_loss: 2.5802 - val_macro_f1: 0.1796 - 6s/epoch - 19ms/step\n",
            "Epoch 62/80\n",
            "313/313 - 6s - loss: 0.0123 - macro_f1: 0.9643 - val_loss: 2.4933 - val_macro_f1: 0.1848 - 6s/epoch - 19ms/step\n",
            "Epoch 63/80\n",
            "313/313 - 6s - loss: 0.0081 - macro_f1: 0.9684 - val_loss: 2.6036 - val_macro_f1: 0.1821 - 6s/epoch - 19ms/step\n",
            "Epoch 64/80\n",
            "313/313 - 6s - loss: 0.0130 - macro_f1: 0.9562 - val_loss: 2.4903 - val_macro_f1: 0.1867 - 6s/epoch - 19ms/step\n",
            "Epoch 65/80\n",
            "313/313 - 6s - loss: 0.0115 - macro_f1: 0.9636 - val_loss: 2.6462 - val_macro_f1: 0.1767 - 6s/epoch - 19ms/step\n",
            "Epoch 66/80\n",
            "313/313 - 6s - loss: 0.0117 - macro_f1: 0.9637 - val_loss: 2.6384 - val_macro_f1: 0.1833 - 6s/epoch - 19ms/step\n",
            "Epoch 67/80\n",
            "313/313 - 6s - loss: 0.0095 - macro_f1: 0.9674 - val_loss: 2.7112 - val_macro_f1: 0.1848 - 6s/epoch - 19ms/step\n",
            "Epoch 68/80\n",
            "313/313 - 6s - loss: 0.0185 - macro_f1: 0.9561 - val_loss: 2.6672 - val_macro_f1: 0.1795 - 6s/epoch - 20ms/step\n",
            "Epoch 69/80\n",
            "313/313 - 6s - loss: 0.0216 - macro_f1: 0.9514 - val_loss: 2.6370 - val_macro_f1: 0.1863 - 6s/epoch - 19ms/step\n",
            "Epoch 70/80\n",
            "313/313 - 6s - loss: 0.0083 - macro_f1: 0.9697 - val_loss: 2.7369 - val_macro_f1: 0.1815 - 6s/epoch - 19ms/step\n",
            "Epoch 71/80\n",
            "313/313 - 15s - loss: 0.0025 - macro_f1: 0.9824 - val_loss: 2.6919 - val_macro_f1: 0.1822 - 15s/epoch - 49ms/step\n",
            "Epoch 72/80\n",
            "313/313 - 6s - loss: 0.0145 - macro_f1: 0.9659 - val_loss: 2.5439 - val_macro_f1: 0.1884 - 6s/epoch - 20ms/step\n",
            "Epoch 73/80\n",
            "313/313 - 7s - loss: 0.0264 - macro_f1: 0.9478 - val_loss: 2.6753 - val_macro_f1: 0.1832 - 7s/epoch - 23ms/step\n",
            "Epoch 74/80\n",
            "313/313 - 6s - loss: 0.0074 - macro_f1: 0.9701 - val_loss: 2.7411 - val_macro_f1: 0.1807 - 6s/epoch - 21ms/step\n",
            "Epoch 75/80\n",
            "313/313 - 6s - loss: 0.0027 - macro_f1: 0.9761 - val_loss: 2.8296 - val_macro_f1: 0.1786 - 6s/epoch - 19ms/step\n",
            "Epoch 76/80\n",
            "313/313 - 6s - loss: 0.0048 - macro_f1: 0.9787 - val_loss: 2.7744 - val_macro_f1: 0.1851 - 6s/epoch - 19ms/step\n",
            "Epoch 77/80\n",
            "313/313 - 6s - loss: 0.0202 - macro_f1: 0.9544 - val_loss: 2.8028 - val_macro_f1: 0.1890 - 6s/epoch - 19ms/step\n",
            "Epoch 78/80\n",
            "313/313 - 6s - loss: 0.0207 - macro_f1: 0.9554 - val_loss: 2.7299 - val_macro_f1: 0.1858 - 6s/epoch - 19ms/step\n",
            "Epoch 79/80\n",
            "313/313 - 6s - loss: 0.0072 - macro_f1: 0.9713 - val_loss: 2.7499 - val_macro_f1: 0.1770 - 6s/epoch - 19ms/step\n",
            "Epoch 80/80\n",
            "313/313 - 6s - loss: 0.0039 - macro_f1: 0.9741 - val_loss: 2.7033 - val_macro_f1: 0.1863 - 6s/epoch - 19ms/step\n"
          ]
        }
      ]
    },
    {
      "cell_type": "code",
      "source": [
        "def apply_threshold_in_predictions(Y_pred, threshold):\n",
        "  for arr in Y_pred:\n",
        "    j=0\n",
        "    for _ in arr:\n",
        "      if(_>=threshold):\n",
        "        arr[j] = 1\n",
        "      else:\n",
        "        arr[j] = 0\n",
        "      j=j+1\n",
        "  \n",
        "  return Y_pred"
      ],
      "metadata": {
        "id": "02ijGeH70W5K"
      },
      "execution_count": null,
      "outputs": []
    },
    {
      "cell_type": "code",
      "source": [
        "check_model = tf.keras.models.load_model('/content/drive/MyDrive/Audio_Tagging_MLSP/NN_model/thresh_0.1_NN_model.h5',custom_objects={\"macro_f1\":macro_f1})"
      ],
      "metadata": {
        "id": "_kpD44OM0dnG"
      },
      "execution_count": null,
      "outputs": []
    },
    {
      "cell_type": "code",
      "source": [
        "Y_pred = check_model.predict(X_test)"
      ],
      "metadata": {
        "colab": {
          "base_uri": "https://localhost:8080/"
        },
        "id": "j-JvFrbo0lwK",
        "outputId": "89c255db-839f-4d90-a699-badd68be6c28"
      },
      "execution_count": null,
      "outputs": [
        {
          "output_type": "stream",
          "name": "stdout",
          "text": [
            "63/63 [==============================] - 1s 6ms/step\n"
          ]
        }
      ]
    },
    {
      "cell_type": "code",
      "source": [
        "from sklearn.metrics import classification_report\n",
        "print(apply_threshold_in_predictions(Y_pred, 0.1))\n",
        "print(classification_report(Y_test, Y_pred))"
      ],
      "metadata": {
        "colab": {
          "base_uri": "https://localhost:8080/"
        },
        "id": "7Pb69mBC0nt7",
        "outputId": "1d8b9f30-5113-47ac-b473-11e83586ed5b"
      },
      "execution_count": null,
      "outputs": [
        {
          "output_type": "stream",
          "name": "stdout",
          "text": [
            "[[0. 0. 1. ... 0. 1. 0.]\n",
            " [0. 0. 0. ... 0. 0. 0.]\n",
            " [1. 0. 0. ... 0. 1. 0.]\n",
            " ...\n",
            " [0. 0. 0. ... 0. 1. 0.]\n",
            " [1. 0. 0. ... 0. 1. 0.]\n",
            " [0. 0. 1. ... 0. 1. 0.]]\n",
            "              precision    recall  f1-score   support\n",
            "\n",
            "           0       0.32      0.33      0.33       392\n",
            "           1       0.40      0.21      0.27       436\n",
            "           2       0.22      0.24      0.23       274\n",
            "           3       0.28      0.24      0.26       444\n",
            "           4       0.29      0.34      0.32       306\n",
            "           5       0.51      0.27      0.36       221\n",
            "           6       0.41      0.36      0.39       130\n",
            "           7       0.18      0.31      0.23       143\n",
            "           8       0.63      0.98      0.77      1246\n",
            "           9       0.29      0.19      0.23       151\n",
            "\n",
            "   micro avg       0.45      0.51      0.48      3743\n",
            "   macro avg       0.35      0.35      0.34      3743\n",
            "weighted avg       0.43      0.51      0.45      3743\n",
            " samples avg       0.48      0.49      0.45      3743\n",
            "\n"
          ]
        },
        {
          "output_type": "stream",
          "name": "stderr",
          "text": [
            "/usr/local/lib/python3.7/dist-packages/sklearn/metrics/_classification.py:1318: UndefinedMetricWarning: Precision and F-score are ill-defined and being set to 0.0 in samples with no predicted labels. Use `zero_division` parameter to control this behavior.\n",
            "  _warn_prf(average, modifier, msg_start, len(result))\n"
          ]
        }
      ]
    },
    {
      "cell_type": "code",
      "source": [
        "from matplotlib import pyplot as plt\n",
        "model.metrics_names\n",
        "plt.plot(history.history['macro_f1'])\n",
        "plt.plot(history.history['val_macro_f1'])\n",
        "plt.title('model f1')\n",
        "plt.ylabel('macro_f1')\n",
        "plt.xlabel('epoch')\n",
        "plt.legend(['train', 'val'], loc='upper left')\n",
        "plt.show()\n",
        "plt.plot(history.history['loss'])\n",
        "plt.plot(history.history['val_loss'])\n",
        "plt.title('model loss')\n",
        "plt.ylabel('loss')\n",
        "plt.xlabel('epoch')\n",
        "plt.legend(['train', 'val'], loc='upper left')\n",
        "plt.show()"
      ],
      "metadata": {
        "colab": {
          "base_uri": "https://localhost:8080/",
          "height": 573
        },
        "id": "0n_ML2y50sOn",
        "outputId": "1baf504e-7908-421f-aa52-a937e4c8caca"
      },
      "execution_count": null,
      "outputs": [
        {
          "output_type": "display_data",
          "data": {
            "text/plain": [
              "<Figure size 432x288 with 1 Axes>"
            ],
            "image/png": "[encoded data removed]"
          },
          "metadata": {
            "needs_background": "light"
          }
        },
        {
          "output_type": "display_data",
          "data": {
            "text/plain": [
              "<Figure size 432x288 with 1 Axes>"
            ],
            "image/png": "[encoded data removed]"
          },
          "metadata": {
            "needs_background": "light"
          }
        }
      ]
    }
  ]
}