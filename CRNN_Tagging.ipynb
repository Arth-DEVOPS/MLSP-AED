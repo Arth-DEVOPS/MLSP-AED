{
 "cells": [
  {
   "cell_type": "code",
   "execution_count": 1,
   "metadata": {
    "colab": {
     "base_uri": "https://localhost:8080/",
     "height": 131
    },
    "id": "_Y83YO9--wfW",
    "outputId": "6f5bc91c-953b-43cf-e822-52af32e0fcb2"
   },
   "outputs": [
    {
     "ename": "SyntaxError",
     "evalue": "ignored",
     "output_type": "error",
     "traceback": [
      "\u001b[0;36m  File \u001b[0;32m\"<ipython-input-1-c19ecac62c2b>\"\u001b[0;36m, line \u001b[0;32m1\u001b[0m\n\u001b[0;31m    remove globalmaxpooling, flatten\u001b[0m\n\u001b[0m                          ^\u001b[0m\n\u001b[0;31mSyntaxError\u001b[0m\u001b[0;31m:\u001b[0m invalid syntax\n"
     ]
    }
   ],
   "source": [
    "remove globalmaxpooling, flatten\n",
    "keras.reshape(55*991,256)\n",
    "gru layer(units)\n"
   ]
  },
  {
   "cell_type": "code",
   "execution_count": 2,
   "metadata": {
    "colab": {
     "base_uri": "https://localhost:8080/"
    },
    "id": "Gnp34sjtKC9V",
    "outputId": "3c7eee9f-f260-430a-c7b5-7efe23e81885"
   },
   "outputs": [
    {
     "name": "stdout",
     "output_type": "stream",
     "text": [
      "Mounted at /content/drive\n"
     ]
    }
   ],
   "source": [
    "from google.colab import drive\n",
    "drive.mount('/content/drive')"
   ]
  },
  {
   "cell_type": "code",
   "execution_count": 3,
   "metadata": {
    "id": "TEmGkNH9KGKp"
   },
   "outputs": [],
   "source": [
    "path='/content/drive/MyDrive/Audio_Tagging_MLSP'\n",
    "import numpy as np \n",
    "import os\n",
    "import glob\n",
    "import pandas as pd\n",
    "import librosa\n",
    "import tensorflow as tf\n",
    "from sklearn.metrics import confusion_matrix\n",
    "from keras.preprocessing import image\n",
    "from tensorflow.keras.models import load_model\n",
    "from sklearn.preprocessing import MultiLabelBinarizer\n",
    "from sklearn.metrics import accuracy_score, hamming_loss, multilabel_confusion_matrix, classification_report\n",
    "import tensorflow as tf\n",
    "from tensorflow import keras\n",
    "from tensorflow.keras.callbacks import ModelCheckpoint"
   ]
  },
  {
   "cell_type": "code",
   "execution_count": 4,
   "metadata": {
    "id": "wdydCDwCKG0D"
   },
   "outputs": [],
   "source": [
    "def to_multihot(eventroll):\n",
    "    \"\"\"\n",
    "    Parameters\n",
    "    ----------\n",
    "    eventroll : np.array\n",
    "        Eventroll matrix of shape=(11, 1000).\n",
    "    \n",
    "    Returns\n",
    "    -------\n",
    "    np.array\n",
    "        A multihot vector of shape=(10,)\n",
    "    \"\"\"\n",
    "    \n",
    "    # findout active events:\n",
    "    active_events = (eventroll.sum(axis=1) >= 0.5).astype('float')\n",
    "    \n",
    "    # remove silence class:\n",
    "    return np.delete(active_events, 8)"
   ]
  },
  {
   "cell_type": "code",
   "execution_count": 5,
   "metadata": {
    "id": "xR3Hb92DKJQz"
   },
   "outputs": [],
   "source": [
    "path='/content/drive/MyDrive/Audio_Tagging_MLSP'\n",
    "X_train=np.load(os.path.join(path, \"X_train.npy\"))\n",
    "X_test=np.load(os.path.join(path, \"X_test.npy\"))\n",
    "Y_train=np.load(os.path.join(path, \"Y_train.npy\"))\n",
    "Y_test=np.load(os.path.join(path, \"Y_test.npy\"))"
   ]
  },
  {
   "cell_type": "code",
   "execution_count": 6,
   "metadata": {
    "colab": {
     "base_uri": "https://localhost:8080/"
    },
    "id": "pUXSsjapKLfY",
    "outputId": "e73bd579-f3c9-4d87-ea8f-10427518405e"
   },
   "outputs": [
    {
     "data": {
      "text/plain": [
       "(2000, 64, 1000, 1)"
      ]
     },
     "execution_count": 6,
     "metadata": {},
     "output_type": "execute_result"
    }
   ],
   "source": [
    "X_train=X_train.reshape((X_train.shape[0], X_train.shape[1], X_train.shape[2], 1))\n",
    "X_train.shape\n",
    "X_test=X_test.reshape((X_test.shape[0], X_test.shape[1], X_test.shape[2], 1))\n",
    "X_test.shape"
   ]
  },
  {
   "cell_type": "code",
   "execution_count": 12,
   "metadata": {
    "id": "GX3sK9UyKNVQ"
   },
   "outputs": [],
   "source": [
    "def create_model(input_shape):\n",
    "    model = tf.keras.Sequential()\n",
    "    # 1st conv layer\n",
    "    model.add(tf.keras.layers.Conv2D(32, (3, 3), activation='relu', input_shape=input_shape))\n",
    "    model.add(tf.keras.layers.MaxPooling2D((2, 2), strides=(1, 1), padding='same'))\n",
    "    model.add(tf.keras.layers.BatchNormalization())\n",
    "\n",
    "    #2nd conv layer\n",
    "    model.add(tf.keras.layers.Conv2D(64, (2, 2), activation='relu', input_shape=input_shape))\n",
    "    model.add(tf.keras.layers.MaxPooling2D((2, 2), strides=(1, 1), padding='same'))\n",
    "    model.add(tf.keras.layers.BatchNormalization())\n",
    "    model.add(tf.keras.layers.Dropout(0.3))\n",
    "\n",
    "    # 3rd conv layer\n",
    "    model.add(tf.keras.layers.Conv2D(64, (3, 3), activation='relu', input_shape=input_shape))\n",
    "    model.add(tf.keras.layers.MaxPooling2D((2, 2), strides=(1, 1), padding='same'))\n",
    "    model.add(tf.keras.layers.BatchNormalization())\n",
    "    model.add(tf.keras.layers.Dropout(0.25))\n",
    "        \n",
    "    # 4th conv layer\n",
    "    model.add(tf.keras.layers.Conv2D(128, (3, 3), activation='relu', input_shape=input_shape))\n",
    "    model.add(tf.keras.layers.MaxPooling2D((2, 2), strides=(1, 1), padding='same'))\n",
    "    model.add(tf.keras.layers.BatchNormalization())\n",
    "    model.add(tf.keras.layers.Dropout(0.2))\n",
    "        \n",
    "    # 5th conv layer\n",
    "    model.add(tf.keras.layers.Conv2D(256, (3, 3), activation='relu', input_shape=input_shape))\n",
    "    model.add(tf.keras.layers.MaxPooling2D((2, 2), strides=(1, 1), padding='same'))\n",
    "    model.add(tf.keras.layers.BatchNormalization())\n",
    "\n",
    "    # CNN to CRNN\n",
    "    model.add(tf.keras.layers.Reshape(target_shape=((55, 253696))))\n",
    "    model.add(tf.keras.layers.GRU(128))\n",
    "    \n",
    "    #Dense Layer\n",
    "    model.add(tf.keras.layers.Dense(256, activation='relu'))\n",
    "\n",
    "    # output layer\n",
    "    model.add(tf.keras.layers.Dense(10, activation='sigmoid'))\n",
    "    \n",
    "    model.compile(loss='binary_crossentropy', optimizer='adam', metrics=['accuracy','AUC'])\n",
    "    \n",
    "    return model"
   ]
  },
  {
   "cell_type": "code",
   "execution_count": 10,
   "metadata": {
    "id": "2gtTchP3KS02"
   },
   "outputs": [],
   "source": [
    "path='/content/drive/MyDrive/Audio_Tagging_MLSP/Final_CRNN_model'\n",
    "filepath=os.path.join(path, \"./CRNN_Model.h5\")\n",
    "model_checkpoint_callback = tf.keras.callbacks.ModelCheckpoint(\n",
    "    filepath,\n",
    "    monitor='val_auc',\n",
    "    mode='max',\n",
    "    save_best_only=True)"
   ]
  },
  {
   "cell_type": "code",
   "execution_count": 13,
   "metadata": {
    "colab": {
     "base_uri": "https://localhost:8080/"
    },
    "id": "L5qprDgSP7p1",
    "outputId": "e8d3bb21-ef2f-4ea5-9d0f-576c8761d072"
   },
   "outputs": [
    {
     "name": "stdout",
     "output_type": "stream",
     "text": [
      "Model: \"sequential_1\"\n",
      "_________________________________________________________________\n",
      " Layer (type)                Output Shape              Param #   \n",
      "=================================================================\n",
      " conv2d_5 (Conv2D)           (None, 62, 998, 32)       320       \n",
      "                                                                 \n",
      " max_pooling2d_5 (MaxPooling  (None, 62, 998, 32)      0         \n",
      " 2D)                                                             \n",
      "                                                                 \n",
      " batch_normalization_5 (Batc  (None, 62, 998, 32)      128       \n",
      " hNormalization)                                                 \n",
      "                                                                 \n",
      " conv2d_6 (Conv2D)           (None, 61, 997, 64)       8256      \n",
      "                                                                 \n",
      " max_pooling2d_6 (MaxPooling  (None, 61, 997, 64)      0         \n",
      " 2D)                                                             \n",
      "                                                                 \n",
      " batch_normalization_6 (Batc  (None, 61, 997, 64)      256       \n",
      " hNormalization)                                                 \n",
      "                                                                 \n",
      " dropout_3 (Dropout)         (None, 61, 997, 64)       0         \n",
      "                                                                 \n",
      " conv2d_7 (Conv2D)           (None, 59, 995, 64)       36928     \n",
      "                                                                 \n",
      " max_pooling2d_7 (MaxPooling  (None, 59, 995, 64)      0         \n",
      " 2D)                                                             \n",
      "                                                                 \n",
      " batch_normalization_7 (Batc  (None, 59, 995, 64)      256       \n",
      " hNormalization)                                                 \n",
      "                                                                 \n",
      " dropout_4 (Dropout)         (None, 59, 995, 64)       0         \n",
      "                                                                 \n",
      " conv2d_8 (Conv2D)           (None, 57, 993, 128)      73856     \n",
      "                                                                 \n",
      " max_pooling2d_8 (MaxPooling  (None, 57, 993, 128)     0         \n",
      " 2D)                                                             \n",
      "                                                                 \n",
      " batch_normalization_8 (Batc  (None, 57, 993, 128)     512       \n",
      " hNormalization)                                                 \n",
      "                                                                 \n",
      " dropout_5 (Dropout)         (None, 57, 993, 128)      0         \n",
      "                                                                 \n",
      " conv2d_9 (Conv2D)           (None, 55, 991, 256)      295168    \n",
      "                                                                 \n",
      " max_pooling2d_9 (MaxPooling  (None, 55, 991, 256)     0         \n",
      " 2D)                                                             \n",
      "                                                                 \n",
      " batch_normalization_9 (Batc  (None, 55, 991, 256)     1024      \n",
      " hNormalization)                                                 \n",
      "                                                                 \n",
      " reshape_1 (Reshape)         (None, 55, 253696)        0         \n",
      "                                                                 \n",
      " gru_1 (GRU)                 (None, 128)               97469184  \n",
      "                                                                 \n",
      " dense_2 (Dense)             (None, 256)               33024     \n",
      "                                                                 \n",
      " dense_3 (Dense)             (None, 10)                2570      \n",
      "                                                                 \n",
      "=================================================================\n",
      "Total params: 97,921,482\n",
      "Trainable params: 97,920,394\n",
      "Non-trainable params: 1,088\n",
      "_________________________________________________________________\n"
     ]
    }
   ],
   "source": [
    "model = create_model(input_shape=X_train.shape[1:])\n",
    "# model = tf.keras.models.load_model('/content/drive/MyDrive/Audio_Tagging_MLSP/CNN_model.h5',custom_objects={\"macro_f1\":macro_f1})\n",
    "# model.compile(loss='binary_crossentropy', optimizer='adam', metrics=[\"accuracy\"])\n",
    "model.summary()"
   ]
  },
  {
   "cell_type": "code",
   "execution_count": null,
   "metadata": {
    "colab": {
     "base_uri": "https://localhost:8080/"
    },
    "id": "yhI0xBm1Rqdf",
    "outputId": "1748028d-2bcd-4ad8-cc09-0f6b4214b62e"
   },
   "outputs": [
    {
     "name": "stdout",
     "output_type": "stream",
     "text": [
      "Epoch 1/140\n"
     ]
    }
   ],
   "source": [
    "history=model.fit(X_train, Y_train, validation_data=(X_test, Y_test), batch_size=32, epochs=140, verbose = 2, callbacks=[model_checkpoint_callback])"
   ]
  }
 ],
 "metadata": {
  "colab": {
   "provenance": []
  },
  "kernelspec": {
   "display_name": "Python 3 (ipykernel)",
   "language": "python",
   "name": "python3"
  },
  "language_info": {
   "codemirror_mode": {
    "name": "ipython",
    "version": 3
   },
   "file_extension": ".py",
   "mimetype": "text/x-python",
   "name": "python",
   "nbconvert_exporter": "python",
   "pygments_lexer": "ipython3",
   "version": "3.9.12"
  }
 },
 "nbformat": 4,
 "nbformat_minor": 1
}
