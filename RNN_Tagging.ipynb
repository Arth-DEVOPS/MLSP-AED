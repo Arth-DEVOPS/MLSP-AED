{
 "cells": [
  {
   "cell_type": "code",
   "execution_count": null,
   "metadata": {
    "colab": {
     "base_uri": "https://localhost:8080/"
    },
    "id": "7rTJjGGArLhl",
    "outputId": "3960a6af-f1c1-4d98-a42c-05d0fc67c137"
   },
   "outputs": [
    {
     "name": "stdout",
     "output_type": "stream",
     "text": [
      "Drive already mounted at /content/drive; to attempt to forcibly remount, call drive.mount(\"/content/drive\", force_remount=True).\n"
     ]
    }
   ],
   "source": [
    "from google.colab import drive\n",
    "drive.mount('/content/drive')"
   ]
  },
  {
   "cell_type": "code",
   "execution_count": null,
   "metadata": {
    "id": "uCae35P3rhac"
   },
   "outputs": [],
   "source": [
    "path='/content/drive/MyDrive/Audio_Tagging_MLSP'\n",
    "import numpy as np \n",
    "import os\n",
    "import glob\n",
    "import pandas as pd\n",
    "import librosa\n",
    "import tensorflow as tf\n",
    "from sklearn.metrics import confusion_matrix\n",
    "from keras.preprocessing import image\n",
    "from tensorflow.keras.models import load_model\n",
    "from sklearn.preprocessing import MultiLabelBinarizer\n",
    "from sklearn.metrics import accuracy_score, hamming_loss, multilabel_confusion_matrix, classification_report\n",
    "import tensorflow as tf\n",
    "from tensorflow import keras\n",
    "from tensorflow.keras.callbacks import ModelCheckpoint"
   ]
  },
  {
   "cell_type": "code",
   "execution_count": null,
   "metadata": {
    "id": "p5xhyQjBr2ef"
   },
   "outputs": [],
   "source": [
    "def to_multihot(eventroll):\n",
    "    \"\"\"\n",
    "    Parameters\n",
    "    ----------\n",
    "    eventroll : np.array\n",
    "        Eventroll matrix of shape=(11, 1000).\n",
    "    \n",
    "    Returns\n",
    "    -------\n",
    "    np.array\n",
    "        A multihot vector of shape=(10,)\n",
    "    \"\"\"\n",
    "    \n",
    "    # findout active events:\n",
    "    active_events = (eventroll.sum(axis=1) >= 0.5).astype('float')\n",
    "    \n",
    "    # remove silence class:\n",
    "    return np.delete(active_events, 8)"
   ]
  },
  {
   "cell_type": "code",
   "execution_count": null,
   "metadata": {
    "id": "YhSDRpxgr3Uw"
   },
   "outputs": [],
   "source": [
    "path='/content/drive/MyDrive/Audio_Tagging_MLSP'\n",
    "X_train=np.load(os.path.join(path, \"X_train.npy\"))\n",
    "X_test=np.load(os.path.join(path, \"X_test.npy\"))\n",
    "Y_train=np.load(os.path.join(path, \"Y_train.npy\"))\n",
    "Y_test=np.load(os.path.join(path, \"Y_test.npy\"))"
   ]
  },
  {
   "cell_type": "code",
   "execution_count": null,
   "metadata": {
    "colab": {
     "base_uri": "https://localhost:8080/"
    },
    "id": "NKHOML7Xr9sw",
    "outputId": "c1b60b0a-861e-436a-96cc-476563c85e71"
   },
   "outputs": [
    {
     "data": {
      "text/plain": [
       "(2000, 64, 1000, 1)"
      ]
     },
     "execution_count": 5,
     "metadata": {},
     "output_type": "execute_result"
    }
   ],
   "source": [
    "X_train=X_train.reshape((X_train.shape[0], X_train.shape[1], X_train.shape[2], 1))\n",
    "X_train.shape\n",
    "X_test=X_test.reshape((X_test.shape[0], X_test.shape[1], X_test.shape[2], 1))\n",
    "X_test.shape"
   ]
  },
  {
   "cell_type": "code",
   "execution_count": null,
   "metadata": {
    "id": "qW7w8i5RuSI0"
   },
   "outputs": [],
   "source": [
    "def macro_f1(y, y_hat, thresh=0.1):\n",
    "    \"\"\"Compute the macro F1-score on a batch of observations (average F1 across labels)\n",
    "    \n",
    "    Args:\n",
    "        y (int32 Tensor): labels array of shape (BATCH_SIZE, N_LABELS)\n",
    "        y_hat (float32 Tensor): probability matrix from forward propagation of shape (BATCH_SIZE, N_LABELS)\n",
    "        thresh: probability value above which we predict positive\n",
    "        \n",
    "    Returns:\n",
    "        macro_f1 (scalar Tensor): value of macro F1 for the batch\n",
    "    \"\"\"\n",
    "    y_pred = tf.cast(tf.greater(y_hat, thresh), tf.float32)\n",
    "    tp = tf.cast(tf.math.count_nonzero(y_pred * y, axis=0), tf.float32)\n",
    "    fp = tf.cast(tf.math.count_nonzero(y_pred * (1 - y), axis=0), tf.float32)\n",
    "    fn = tf.cast(tf.math.count_nonzero((1 - y_pred) * y, axis=0), tf.float32)\n",
    "    f1 = 2*tp / (2*tp + fn + fp + 1e-16)\n",
    "    macro_f1 = tf.reduce_mean(f1)\n",
    "    return macro_f1"
   ]
  },
  {
   "cell_type": "code",
   "execution_count": null,
   "metadata": {
    "id": "l35t9j5s1ha5"
   },
   "outputs": [],
   "source": [
    "class Attention():\n",
    "    def __init__(self, step_dim,\n",
    "                 W_regularizer=None, b_regularizer=None,\n",
    "                 W_constraint=None, b_constraint=None,\n",
    "                 bias=True, **kwargs):\n",
    "        self.supports_masking = True\n",
    "        self.init = initializers.get('glorot_uniform')\n",
    "        self.W_regularizer = regularizers.get(W_regularizer)\n",
    "        self.b_regularizer = regularizers.get(b_regularizer)\n",
    "        self.W_constraint = constraints.get(W_constraint)\n",
    "        self.b_constraint = constraints.get(b_constraint)\n",
    "        self.bias = bias\n",
    "        self.step_dim = step_dim\n",
    "        self.features_dim = 0\n",
    "        super(Attention, self).__init__(**kwargs)\n",
    "\n",
    "    def build(self, input_shape):\n",
    "        assert len(input_shape) == 3\n",
    "\n",
    "        self.W = self.add_weight((input_shape[-1],),\n",
    "                                 initializer=self.init,\n",
    "                                 name='{}_W'.format(self.name),\n",
    "                                 regularizer=self.W_regularizer,\n",
    "                                 constraint=self.W_constraint)\n",
    "        self.features_dim = input_shape[-1]\n",
    "\n",
    "        if self.bias:\n",
    "            self.b = self.add_weight((input_shape[1],),\n",
    "                                     initializer='zero',\n",
    "                                     name='{}_b'.format(self.name),\n",
    "                                     regularizer=self.b_regularizer,\n",
    "                                     constraint=self.b_constraint)\n",
    "        else:\n",
    "            self.b = None\n",
    "        self.built = True\n",
    "\n",
    "    def compute_mask(self, input, input_mask=None):\n",
    "        return None\n",
    "\n",
    "    def call(self, x, mask=None):\n",
    "        features_dim = self.features_dim\n",
    "        step_dim = self.step_dim\n",
    "\n",
    "        eij = K.reshape(K.dot(K.reshape(x, (-1, features_dim)),\n",
    "                        K.reshape(self.W, (features_dim, 1))), (-1, step_dim))\n",
    "        if self.bias:\n",
    "            eij += self.b\n",
    "        eij = K.tanh(eij)\n",
    "        a = K.exp(eij)\n",
    "        if mask is not None:\n",
    "            a *= K.cast(mask, K.floatx())\n",
    "        a /= K.cast(K.sum(a, axis=1, keepdims=True) + K.epsilon(), K.floatx())\n",
    "        a = K.expand_dims(a)\n",
    "        weighted_input = x * a\n",
    "        return K.sum(weighted_input, axis=1)\n",
    "\n",
    "    def compute_output_shape(self, input_shape):\n",
    "        return input_shape[0],  self.features_dim\n"
   ]
  },
  {
   "cell_type": "code",
   "execution_count": null,
   "metadata": {
    "id": "tyeNiu4PsDT4"
   },
   "outputs": [],
   "source": [
    "def multi_label_classifier(input_shape):\n",
    "    print(input_shape) \n",
    "#     inputs = tf.keras.Input(shape=input_shape)\n",
    "    num_classes = 10 # categories of sound\n",
    "    model = keras.models.Sequential()\n",
    "\n",
    "    model.add(keras.layers.LSTM(128,input_shape = input_shape))\n",
    "    # input layer\n",
    "    model.add(keras.layers.Dropout(0.2)),\n",
    "    \n",
    "    # first hidden layer\n",
    "    model.add(keras.layers.Dense(512, activation=\"relu\")),\n",
    "    \n",
    "    # second hidden layer\n",
    "    model.add(keras.layers.Dense(256, activation=\"relu\")),\n",
    "    \n",
    "    # third hidden layer\n",
    "    model.add(keras.layers.Dense(128, activation=\"relu\"))\n",
    "\n",
    "    # fourth hidden layer\n",
    "    model.add(keras.layers.Dense(64, activation=\"relu\"))\n",
    "\n",
    "    # fifth hidden layer\n",
    "    model.add(keras.layers.Dense(32, activation=\"relu\"))\n",
    "\n",
    "    model.add(keras.layers.ELU())\n",
    "    model.add(keras.layers.Dropout(0.2))\n",
    "\n",
    "    # output layer\n",
    "    model.add(keras.layers.Dense(num_classes, activation='sigmoid')),\n",
    "  \n",
    "    model.compile(optimizer=keras.optimizers.Adam(1e-4), \n",
    "        loss='binary_crossentropy', # one-hot encoding for binary arrays\n",
    "        metrics=['accuracy','AUC',macro_f1]) # provides better estimates of accuracy for one-hot labels\n",
    "    return model"
   ]
  },
  {
   "cell_type": "code",
   "execution_count": null,
   "metadata": {
    "id": "kb0Mzr58s1hK"
   },
   "outputs": [],
   "source": [
    "path='/content/drive/MyDrive/Audio_Tagging_MLSP/RNN_model'\n",
    "filepath=os.path.join(path, \"./RNN_model_2.h5\")\n",
    "model_checkpoint_callback = tf.keras.callbacks.ModelCheckpoint(\n",
    "    filepath,\n",
    "    monitor='macro_f1',\n",
    "    mode='max',\n",
    "    save_best_only=True,\n",
    "    )"
   ]
  },
  {
   "cell_type": "code",
   "execution_count": null,
   "metadata": {
    "colab": {
     "base_uri": "https://localhost:8080/"
    },
    "id": "vlGMx1xxvDko",
    "outputId": "e1ed2ed0-6f26-445e-849e-6c849181e3b4"
   },
   "outputs": [
    {
     "name": "stdout",
     "output_type": "stream",
     "text": [
      "(64, 1000)\n",
      "Model: \"sequential_1\"\n",
      "_________________________________________________________________\n",
      " Layer (type)                Output Shape              Param #   \n",
      "=================================================================\n",
      " lstm_1 (LSTM)               (None, 128)               578048    \n",
      "                                                                 \n",
      " dropout_2 (Dropout)         (None, 128)               0         \n",
      "                                                                 \n",
      " dense_6 (Dense)             (None, 512)               66048     \n",
      "                                                                 \n",
      " dense_7 (Dense)             (None, 256)               131328    \n",
      "                                                                 \n",
      " dense_8 (Dense)             (None, 128)               32896     \n",
      "                                                                 \n",
      " dense_9 (Dense)             (None, 64)                8256      \n",
      "                                                                 \n",
      " dense_10 (Dense)            (None, 32)                2080      \n",
      "                                                                 \n",
      " elu_1 (ELU)                 (None, 32)                0         \n",
      "                                                                 \n",
      " dropout_3 (Dropout)         (None, 32)                0         \n",
      "                                                                 \n",
      " dense_11 (Dense)            (None, 10)                330       \n",
      "                                                                 \n",
      "=================================================================\n",
      "Total params: 818,986\n",
      "Trainable params: 818,986\n",
      "Non-trainable params: 0\n",
      "_________________________________________________________________\n"
     ]
    }
   ],
   "source": [
    "from matplotlib import pyplot as plt\n",
    "model = multi_label_classifier(input_shape=X_train.shape[1:3])\n",
    "# model = tf.keras.models.load_model('/content/drive/MyDrive/Audio_Tagging_MLSP/NN_model/thresh_0.1_NN_model47.h5',custom_objects={\"macro_f1\":macro_f1})\n",
    "# model.compile(loss='binary_crossentropy', optimizer='adam', metrics=[\"accuracy\"])\n",
    "model.summary()"
   ]
  },
  {
   "cell_type": "code",
   "execution_count": null,
   "metadata": {
    "colab": {
     "base_uri": "https://localhost:8080/"
    },
    "id": "9Rh9LUXAvVV7",
    "outputId": "2a2bae55-ff6e-46a8-f50d-74576fda03eb"
   },
   "outputs": [
    {
     "name": "stdout",
     "output_type": "stream",
     "text": [
      "Epoch 1/135\n",
      "313/313 - 12s - loss: 0.4193 - accuracy: 0.1133 - auc: 0.7325 - macro_f1: 0.2961 - val_loss: 0.4618 - val_accuracy: 0.0480 - val_auc: 0.6574 - val_macro_f1: 0.2337 - 12s/epoch - 40ms/step\n",
      "Epoch 2/135\n",
      "313/313 - 4s - loss: 0.3892 - accuracy: 0.1125 - auc: 0.7592 - macro_f1: 0.3091 - val_loss: 0.4531 - val_accuracy: 0.0480 - val_auc: 0.6929 - val_macro_f1: 0.2294 - 4s/epoch - 12ms/step\n",
      "Epoch 3/135\n",
      "313/313 - 4s - loss: 0.3825 - accuracy: 0.1124 - auc: 0.7768 - macro_f1: 0.3233 - val_loss: 0.4561 - val_accuracy: 0.0480 - val_auc: 0.6935 - val_macro_f1: 0.2273 - 4s/epoch - 12ms/step\n",
      "Epoch 4/135\n",
      "313/313 - 4s - loss: 0.3769 - accuracy: 0.1126 - auc: 0.7889 - macro_f1: 0.3312 - val_loss: 0.4428 - val_accuracy: 0.0480 - val_auc: 0.7249 - val_macro_f1: 0.2292 - 4s/epoch - 12ms/step\n",
      "Epoch 5/135\n",
      "313/313 - 5s - loss: 0.3713 - accuracy: 0.1125 - auc: 0.8027 - macro_f1: 0.3424 - val_loss: 0.4455 - val_accuracy: 0.0480 - val_auc: 0.7194 - val_macro_f1: 0.2296 - 5s/epoch - 16ms/step\n",
      "Epoch 6/135\n",
      "313/313 - 4s - loss: 0.3661 - accuracy: 0.1125 - auc: 0.8136 - macro_f1: 0.3536 - val_loss: 0.4489 - val_accuracy: 0.0480 - val_auc: 0.7198 - val_macro_f1: 0.2245 - 4s/epoch - 12ms/step\n",
      "Epoch 7/135\n",
      "313/313 - 4s - loss: 0.3633 - accuracy: 0.1126 - auc: 0.8182 - macro_f1: 0.3563 - val_loss: 0.4402 - val_accuracy: 0.0480 - val_auc: 0.7367 - val_macro_f1: 0.2293 - 4s/epoch - 12ms/step\n",
      "Epoch 8/135\n",
      "313/313 - 4s - loss: 0.3573 - accuracy: 0.1125 - auc: 0.8278 - macro_f1: 0.3656 - val_loss: 0.4449 - val_accuracy: 0.0480 - val_auc: 0.7341 - val_macro_f1: 0.2253 - 4s/epoch - 12ms/step\n",
      "Epoch 9/135\n",
      "313/313 - 4s - loss: 0.3532 - accuracy: 0.1125 - auc: 0.8341 - macro_f1: 0.3711 - val_loss: 0.4406 - val_accuracy: 0.0480 - val_auc: 0.7364 - val_macro_f1: 0.2270 - 4s/epoch - 12ms/step\n",
      "Epoch 10/135\n",
      "313/313 - 4s - loss: 0.3462 - accuracy: 0.1131 - auc: 0.8430 - macro_f1: 0.3815 - val_loss: 0.4394 - val_accuracy: 0.0480 - val_auc: 0.7446 - val_macro_f1: 0.2286 - 4s/epoch - 12ms/step\n",
      "Epoch 11/135\n",
      "313/313 - 4s - loss: 0.3422 - accuracy: 0.1137 - auc: 0.8481 - macro_f1: 0.3883 - val_loss: 0.4426 - val_accuracy: 0.0480 - val_auc: 0.7395 - val_macro_f1: 0.2263 - 4s/epoch - 12ms/step\n",
      "Epoch 12/135\n",
      "313/313 - 4s - loss: 0.3333 - accuracy: 0.1160 - auc: 0.8573 - macro_f1: 0.3981 - val_loss: 0.4421 - val_accuracy: 0.0480 - val_auc: 0.7445 - val_macro_f1: 0.2302 - 4s/epoch - 12ms/step\n",
      "Epoch 13/135\n",
      "313/313 - 4s - loss: 0.3271 - accuracy: 0.1172 - auc: 0.8635 - macro_f1: 0.4043 - val_loss: 0.4490 - val_accuracy: 0.0480 - val_auc: 0.7375 - val_macro_f1: 0.2270 - 4s/epoch - 12ms/step\n",
      "Epoch 14/135\n",
      "313/313 - 4s - loss: 0.3242 - accuracy: 0.1167 - auc: 0.8684 - macro_f1: 0.4101 - val_loss: 0.4418 - val_accuracy: 0.0480 - val_auc: 0.7472 - val_macro_f1: 0.2276 - 4s/epoch - 12ms/step\n",
      "Epoch 15/135\n",
      "313/313 - 5s - loss: 0.3197 - accuracy: 0.1176 - auc: 0.8711 - macro_f1: 0.4164 - val_loss: 0.4443 - val_accuracy: 0.0490 - val_auc: 0.7441 - val_macro_f1: 0.2296 - 5s/epoch - 16ms/step\n",
      "Epoch 16/135\n",
      "313/313 - 4s - loss: 0.3172 - accuracy: 0.1180 - auc: 0.8741 - macro_f1: 0.4200 - val_loss: 0.4462 - val_accuracy: 0.0485 - val_auc: 0.7422 - val_macro_f1: 0.2278 - 4s/epoch - 12ms/step\n",
      "Epoch 17/135\n",
      "313/313 - 4s - loss: 0.3117 - accuracy: 0.1148 - auc: 0.8787 - macro_f1: 0.4313 - val_loss: 0.4487 - val_accuracy: 0.0480 - val_auc: 0.7443 - val_macro_f1: 0.2296 - 4s/epoch - 12ms/step\n",
      "Epoch 18/135\n",
      "313/313 - 4s - loss: 0.3091 - accuracy: 0.1125 - auc: 0.8812 - macro_f1: 0.4329 - val_loss: 0.4488 - val_accuracy: 0.0485 - val_auc: 0.7444 - val_macro_f1: 0.2265 - 4s/epoch - 12ms/step\n",
      "Epoch 19/135\n",
      "313/313 - 4s - loss: 0.3042 - accuracy: 0.1121 - auc: 0.8857 - macro_f1: 0.4408 - val_loss: 0.4539 - val_accuracy: 0.0485 - val_auc: 0.7374 - val_macro_f1: 0.2259 - 4s/epoch - 12ms/step\n",
      "Epoch 20/135\n",
      "313/313 - 4s - loss: 0.3015 - accuracy: 0.1098 - auc: 0.8879 - macro_f1: 0.4470 - val_loss: 0.4465 - val_accuracy: 0.0485 - val_auc: 0.7459 - val_macro_f1: 0.2303 - 4s/epoch - 12ms/step\n",
      "Epoch 21/135\n",
      "313/313 - 4s - loss: 0.2991 - accuracy: 0.1100 - auc: 0.8901 - macro_f1: 0.4523 - val_loss: 0.4480 - val_accuracy: 0.0485 - val_auc: 0.7479 - val_macro_f1: 0.2331 - 4s/epoch - 12ms/step\n",
      "Epoch 22/135\n",
      "313/313 - 4s - loss: 0.2955 - accuracy: 0.1068 - auc: 0.8933 - macro_f1: 0.4587 - val_loss: 0.4573 - val_accuracy: 0.0480 - val_auc: 0.7450 - val_macro_f1: 0.2295 - 4s/epoch - 13ms/step\n",
      "Epoch 23/135\n",
      "313/313 - 4s - loss: 0.2903 - accuracy: 0.1041 - auc: 0.8983 - macro_f1: 0.4675 - val_loss: 0.4568 - val_accuracy: 0.0485 - val_auc: 0.7453 - val_macro_f1: 0.2319 - 4s/epoch - 12ms/step\n",
      "Epoch 24/135\n",
      "313/313 - 4s - loss: 0.2876 - accuracy: 0.1031 - auc: 0.9002 - macro_f1: 0.4716 - val_loss: 0.4544 - val_accuracy: 0.0480 - val_auc: 0.7465 - val_macro_f1: 0.2297 - 4s/epoch - 12ms/step\n",
      "Epoch 25/135\n",
      "313/313 - 5s - loss: 0.2865 - accuracy: 0.1057 - auc: 0.9014 - macro_f1: 0.4732 - val_loss: 0.4533 - val_accuracy: 0.0485 - val_auc: 0.7500 - val_macro_f1: 0.2318 - 5s/epoch - 16ms/step\n",
      "Epoch 26/135\n",
      "313/313 - 4s - loss: 0.2840 - accuracy: 0.1026 - auc: 0.9033 - macro_f1: 0.4772 - val_loss: 0.4661 - val_accuracy: 0.0470 - val_auc: 0.7447 - val_macro_f1: 0.2271 - 4s/epoch - 12ms/step\n",
      "Epoch 27/135\n",
      "313/313 - 4s - loss: 0.2820 - accuracy: 0.1029 - auc: 0.9050 - macro_f1: 0.4814 - val_loss: 0.4671 - val_accuracy: 0.0475 - val_auc: 0.7418 - val_macro_f1: 0.2244 - 4s/epoch - 12ms/step\n",
      "Epoch 28/135\n",
      "313/313 - 4s - loss: 0.2785 - accuracy: 0.0980 - auc: 0.9075 - macro_f1: 0.4898 - val_loss: 0.4584 - val_accuracy: 0.0490 - val_auc: 0.7479 - val_macro_f1: 0.2282 - 4s/epoch - 12ms/step\n",
      "Epoch 29/135\n",
      "313/313 - 4s - loss: 0.2801 - accuracy: 0.1003 - auc: 0.9067 - macro_f1: 0.4827 - val_loss: 0.4608 - val_accuracy: 0.0485 - val_auc: 0.7482 - val_macro_f1: 0.2284 - 4s/epoch - 12ms/step\n",
      "Epoch 30/135\n",
      "313/313 - 4s - loss: 0.2731 - accuracy: 0.0961 - auc: 0.9117 - macro_f1: 0.4909 - val_loss: 0.4686 - val_accuracy: 0.0475 - val_auc: 0.7455 - val_macro_f1: 0.2296 - 4s/epoch - 12ms/step\n",
      "Epoch 31/135\n",
      "313/313 - 4s - loss: 0.2725 - accuracy: 0.0961 - auc: 0.9127 - macro_f1: 0.4958 - val_loss: 0.4601 - val_accuracy: 0.0480 - val_auc: 0.7458 - val_macro_f1: 0.2292 - 4s/epoch - 12ms/step\n",
      "Epoch 32/135\n",
      "313/313 - 4s - loss: 0.2698 - accuracy: 0.0988 - auc: 0.9149 - macro_f1: 0.4982 - val_loss: 0.4636 - val_accuracy: 0.0480 - val_auc: 0.7482 - val_macro_f1: 0.2273 - 4s/epoch - 12ms/step\n",
      "Epoch 33/135\n",
      "313/313 - 4s - loss: 0.2682 - accuracy: 0.0961 - auc: 0.9162 - macro_f1: 0.5037 - val_loss: 0.4748 - val_accuracy: 0.0475 - val_auc: 0.7436 - val_macro_f1: 0.2242 - 4s/epoch - 12ms/step\n",
      "Epoch 34/135\n",
      "313/313 - 4s - loss: 0.2656 - accuracy: 0.0958 - auc: 0.9185 - macro_f1: 0.5083 - val_loss: 0.4650 - val_accuracy: 0.0500 - val_auc: 0.7476 - val_macro_f1: 0.2310 - 4s/epoch - 12ms/step\n",
      "Epoch 35/135\n",
      "313/313 - 4s - loss: 0.2666 - accuracy: 0.0932 - auc: 0.9172 - macro_f1: 0.5071 - val_loss: 0.4665 - val_accuracy: 0.0485 - val_auc: 0.7501 - val_macro_f1: 0.2285 - 4s/epoch - 14ms/step\n",
      "Epoch 36/135\n",
      "313/313 - 5s - loss: 0.2636 - accuracy: 0.0954 - auc: 0.9197 - macro_f1: 0.5087 - val_loss: 0.4754 - val_accuracy: 0.0470 - val_auc: 0.7474 - val_macro_f1: 0.2261 - 5s/epoch - 17ms/step\n",
      "Epoch 37/135\n",
      "313/313 - 4s - loss: 0.2612 - accuracy: 0.0984 - auc: 0.9216 - macro_f1: 0.5170 - val_loss: 0.4684 - val_accuracy: 0.0475 - val_auc: 0.7483 - val_macro_f1: 0.2270 - 4s/epoch - 12ms/step\n",
      "Epoch 38/135\n",
      "313/313 - 4s - loss: 0.2594 - accuracy: 0.0998 - auc: 0.9226 - macro_f1: 0.5189 - val_loss: 0.4740 - val_accuracy: 0.0490 - val_auc: 0.7423 - val_macro_f1: 0.2252 - 4s/epoch - 12ms/step\n",
      "Epoch 39/135\n",
      "313/313 - 4s - loss: 0.2617 - accuracy: 0.1016 - auc: 0.9217 - macro_f1: 0.5185 - val_loss: 0.4715 - val_accuracy: 0.0475 - val_auc: 0.7484 - val_macro_f1: 0.2253 - 4s/epoch - 12ms/step\n",
      "Epoch 40/135\n",
      "313/313 - 4s - loss: 0.2575 - accuracy: 0.1002 - auc: 0.9241 - macro_f1: 0.5227 - val_loss: 0.4679 - val_accuracy: 0.0495 - val_auc: 0.7532 - val_macro_f1: 0.2259 - 4s/epoch - 12ms/step\n",
      "Epoch 41/135\n",
      "313/313 - 4s - loss: 0.2561 - accuracy: 0.1066 - auc: 0.9250 - macro_f1: 0.5244 - val_loss: 0.4681 - val_accuracy: 0.0480 - val_auc: 0.7487 - val_macro_f1: 0.2267 - 4s/epoch - 12ms/step\n",
      "Epoch 42/135\n",
      "313/313 - 4s - loss: 0.2562 - accuracy: 0.1060 - auc: 0.9248 - macro_f1: 0.5236 - val_loss: 0.4792 - val_accuracy: 0.0470 - val_auc: 0.7449 - val_macro_f1: 0.2249 - 4s/epoch - 12ms/step\n",
      "Epoch 43/135\n",
      "313/313 - 4s - loss: 0.2540 - accuracy: 0.1103 - auc: 0.9265 - macro_f1: 0.5290 - val_loss: 0.4816 - val_accuracy: 0.0480 - val_auc: 0.7463 - val_macro_f1: 0.2224 - 4s/epoch - 12ms/step\n",
      "Epoch 44/135\n",
      "313/313 - 4s - loss: 0.2547 - accuracy: 0.1112 - auc: 0.9262 - macro_f1: 0.5267 - val_loss: 0.4805 - val_accuracy: 0.0485 - val_auc: 0.7463 - val_macro_f1: 0.2230 - 4s/epoch - 12ms/step\n",
      "Epoch 45/135\n",
      "313/313 - 5s - loss: 0.2521 - accuracy: 0.1115 - auc: 0.9280 - macro_f1: 0.5327 - val_loss: 0.4725 - val_accuracy: 0.0475 - val_auc: 0.7489 - val_macro_f1: 0.2258 - 5s/epoch - 15ms/step\n",
      "Epoch 46/135\n",
      "313/313 - 5s - loss: 0.2485 - accuracy: 0.1050 - auc: 0.9305 - macro_f1: 0.5374 - val_loss: 0.4781 - val_accuracy: 0.0475 - val_auc: 0.7493 - val_macro_f1: 0.2239 - 5s/epoch - 15ms/step\n",
      "Epoch 47/135\n",
      "313/313 - 4s - loss: 0.2478 - accuracy: 0.1127 - auc: 0.9313 - macro_f1: 0.5394 - val_loss: 0.4867 - val_accuracy: 0.0470 - val_auc: 0.7475 - val_macro_f1: 0.2218 - 4s/epoch - 12ms/step\n",
      "Epoch 48/135\n",
      "313/313 - 4s - loss: 0.2452 - accuracy: 0.1144 - auc: 0.9325 - macro_f1: 0.5392 - val_loss: 0.4881 - val_accuracy: 0.0490 - val_auc: 0.7483 - val_macro_f1: 0.2219 - 4s/epoch - 12ms/step\n",
      "Epoch 49/135\n",
      "313/313 - 4s - loss: 0.2467 - accuracy: 0.1160 - auc: 0.9316 - macro_f1: 0.5373 - val_loss: 0.4927 - val_accuracy: 0.0485 - val_auc: 0.7485 - val_macro_f1: 0.2271 - 4s/epoch - 12ms/step\n",
      "Epoch 50/135\n",
      "313/313 - 5s - loss: 0.2452 - accuracy: 0.1143 - auc: 0.9330 - macro_f1: 0.5443 - val_loss: 0.4847 - val_accuracy: 0.0465 - val_auc: 0.7496 - val_macro_f1: 0.2246 - 5s/epoch - 15ms/step\n",
      "Epoch 51/135\n",
      "313/313 - 4s - loss: 0.2469 - accuracy: 0.1113 - auc: 0.9320 - macro_f1: 0.5429 - val_loss: 0.4818 - val_accuracy: 0.0475 - val_auc: 0.7479 - val_macro_f1: 0.2238 - 4s/epoch - 11ms/step\n",
      "Epoch 52/135\n",
      "313/313 - 5s - loss: 0.2434 - accuracy: 0.1098 - auc: 0.9341 - macro_f1: 0.5470 - val_loss: 0.4963 - val_accuracy: 0.0475 - val_auc: 0.7453 - val_macro_f1: 0.2194 - 5s/epoch - 15ms/step\n",
      "Epoch 53/135\n",
      "313/313 - 4s - loss: 0.2402 - accuracy: 0.1165 - auc: 0.9362 - macro_f1: 0.5529 - val_loss: 0.4883 - val_accuracy: 0.0495 - val_auc: 0.7412 - val_macro_f1: 0.2183 - 4s/epoch - 13ms/step\n",
      "Epoch 54/135\n",
      "313/313 - 4s - loss: 0.2394 - accuracy: 0.1094 - auc: 0.9367 - macro_f1: 0.5553 - val_loss: 0.4919 - val_accuracy: 0.0490 - val_auc: 0.7442 - val_macro_f1: 0.2173 - 4s/epoch - 12ms/step\n",
      "Epoch 55/135\n",
      "313/313 - 5s - loss: 0.2393 - accuracy: 0.1167 - auc: 0.9370 - macro_f1: 0.5560 - val_loss: 0.4987 - val_accuracy: 0.0475 - val_auc: 0.7444 - val_macro_f1: 0.2166 - 5s/epoch - 16ms/step\n",
      "Epoch 56/135\n",
      "313/313 - 4s - loss: 0.2388 - accuracy: 0.1215 - auc: 0.9373 - macro_f1: 0.5540 - val_loss: 0.4935 - val_accuracy: 0.0455 - val_auc: 0.7447 - val_macro_f1: 0.2204 - 4s/epoch - 13ms/step\n",
      "Epoch 57/135\n",
      "313/313 - 4s - loss: 0.2390 - accuracy: 0.1160 - auc: 0.9369 - macro_f1: 0.5523 - val_loss: 0.4992 - val_accuracy: 0.0475 - val_auc: 0.7479 - val_macro_f1: 0.2212 - 4s/epoch - 12ms/step\n",
      "Epoch 58/135\n",
      "313/313 - 5s - loss: 0.2370 - accuracy: 0.1182 - auc: 0.9384 - macro_f1: 0.5576 - val_loss: 0.5007 - val_accuracy: 0.0485 - val_auc: 0.7388 - val_macro_f1: 0.2166 - 5s/epoch - 15ms/step\n",
      "Epoch 59/135\n",
      "313/313 - 4s - loss: 0.2363 - accuracy: 0.1146 - auc: 0.9390 - macro_f1: 0.5580 - val_loss: 0.5089 - val_accuracy: 0.0465 - val_auc: 0.7439 - val_macro_f1: 0.2138 - 4s/epoch - 13ms/step\n",
      "Epoch 60/135\n",
      "313/313 - 4s - loss: 0.2350 - accuracy: 0.1169 - auc: 0.9397 - macro_f1: 0.5610 - val_loss: 0.4962 - val_accuracy: 0.0495 - val_auc: 0.7450 - val_macro_f1: 0.2180 - 4s/epoch - 13ms/step\n",
      "Epoch 61/135\n",
      "313/313 - 4s - loss: 0.2334 - accuracy: 0.1197 - auc: 0.9405 - macro_f1: 0.5643 - val_loss: 0.4947 - val_accuracy: 0.0490 - val_auc: 0.7476 - val_macro_f1: 0.2179 - 4s/epoch - 13ms/step\n",
      "Epoch 62/135\n",
      "313/313 - 4s - loss: 0.2335 - accuracy: 0.1177 - auc: 0.9408 - macro_f1: 0.5655 - val_loss: 0.5037 - val_accuracy: 0.0470 - val_auc: 0.7501 - val_macro_f1: 0.2165 - 4s/epoch - 12ms/step\n",
      "Epoch 63/135\n",
      "313/313 - 4s - loss: 0.2315 - accuracy: 0.1252 - auc: 0.9417 - macro_f1: 0.5697 - val_loss: 0.4932 - val_accuracy: 0.0470 - val_auc: 0.7450 - val_macro_f1: 0.2178 - 4s/epoch - 12ms/step\n",
      "Epoch 64/135\n",
      "313/313 - 4s - loss: 0.2321 - accuracy: 0.1238 - auc: 0.9416 - macro_f1: 0.5659 - val_loss: 0.5049 - val_accuracy: 0.0480 - val_auc: 0.7475 - val_macro_f1: 0.2202 - 4s/epoch - 12ms/step\n",
      "Epoch 65/135\n",
      "313/313 - 6s - loss: 0.2304 - accuracy: 0.1254 - auc: 0.9427 - macro_f1: 0.5699 - val_loss: 0.5053 - val_accuracy: 0.0470 - val_auc: 0.7455 - val_macro_f1: 0.2191 - 6s/epoch - 18ms/step\n",
      "Epoch 66/135\n",
      "313/313 - 4s - loss: 0.2303 - accuracy: 0.1265 - auc: 0.9427 - macro_f1: 0.5673 - val_loss: 0.5004 - val_accuracy: 0.0470 - val_auc: 0.7472 - val_macro_f1: 0.2203 - 4s/epoch - 12ms/step\n",
      "Epoch 67/135\n",
      "313/313 - 5s - loss: 0.2277 - accuracy: 0.1248 - auc: 0.9442 - macro_f1: 0.5745 - val_loss: 0.5101 - val_accuracy: 0.0465 - val_auc: 0.7478 - val_macro_f1: 0.2192 - 5s/epoch - 15ms/step\n",
      "Epoch 68/135\n",
      "313/313 - 4s - loss: 0.2238 - accuracy: 0.1252 - auc: 0.9465 - macro_f1: 0.5817 - val_loss: 0.5133 - val_accuracy: 0.0475 - val_auc: 0.7435 - val_macro_f1: 0.2151 - 4s/epoch - 12ms/step\n",
      "Epoch 69/135\n",
      "313/313 - 4s - loss: 0.2233 - accuracy: 0.1303 - auc: 0.9470 - macro_f1: 0.5840 - val_loss: 0.5057 - val_accuracy: 0.0465 - val_auc: 0.7475 - val_macro_f1: 0.2158 - 4s/epoch - 12ms/step\n",
      "Epoch 70/135\n",
      "313/313 - 4s - loss: 0.2201 - accuracy: 0.1329 - auc: 0.9486 - macro_f1: 0.5892 - val_loss: 0.5109 - val_accuracy: 0.0495 - val_auc: 0.7498 - val_macro_f1: 0.2169 - 4s/epoch - 12ms/step\n",
      "Epoch 71/135\n",
      "313/313 - 4s - loss: 0.2200 - accuracy: 0.1340 - auc: 0.9490 - macro_f1: 0.5879 - val_loss: 0.5122 - val_accuracy: 0.0480 - val_auc: 0.7470 - val_macro_f1: 0.2144 - 4s/epoch - 12ms/step\n",
      "Epoch 72/135\n",
      "313/313 - 4s - loss: 0.2200 - accuracy: 0.1351 - auc: 0.9487 - macro_f1: 0.5887 - val_loss: 0.5238 - val_accuracy: 0.0455 - val_auc: 0.7429 - val_macro_f1: 0.2114 - 4s/epoch - 12ms/step\n",
      "Epoch 73/135\n",
      "313/313 - 4s - loss: 0.2201 - accuracy: 0.1363 - auc: 0.9486 - macro_f1: 0.5868 - val_loss: 0.5276 - val_accuracy: 0.0525 - val_auc: 0.7426 - val_macro_f1: 0.2119 - 4s/epoch - 12ms/step\n",
      "Epoch 74/135\n",
      "313/313 - 5s - loss: 0.2172 - accuracy: 0.1372 - auc: 0.9502 - macro_f1: 0.5923 - val_loss: 0.5159 - val_accuracy: 0.0450 - val_auc: 0.7464 - val_macro_f1: 0.2142 - 5s/epoch - 15ms/step\n",
      "Epoch 75/135\n",
      "313/313 - 5s - loss: 0.2173 - accuracy: 0.1342 - auc: 0.9503 - macro_f1: 0.5952 - val_loss: 0.5215 - val_accuracy: 0.0470 - val_auc: 0.7462 - val_macro_f1: 0.2141 - 5s/epoch - 16ms/step\n",
      "Epoch 76/135\n",
      "313/313 - 4s - loss: 0.2161 - accuracy: 0.1406 - auc: 0.9510 - macro_f1: 0.5953 - val_loss: 0.5280 - val_accuracy: 0.0465 - val_auc: 0.7434 - val_macro_f1: 0.2103 - 4s/epoch - 12ms/step\n",
      "Epoch 77/135\n",
      "313/313 - 4s - loss: 0.2155 - accuracy: 0.1393 - auc: 0.9510 - macro_f1: 0.5977 - val_loss: 0.5285 - val_accuracy: 0.0465 - val_auc: 0.7422 - val_macro_f1: 0.2120 - 4s/epoch - 12ms/step\n",
      "Epoch 78/135\n",
      "313/313 - 4s - loss: 0.2150 - accuracy: 0.1374 - auc: 0.9515 - macro_f1: 0.5964 - val_loss: 0.5232 - val_accuracy: 0.0465 - val_auc: 0.7419 - val_macro_f1: 0.2112 - 4s/epoch - 12ms/step\n",
      "Epoch 79/135\n",
      "313/313 - 4s - loss: 0.2147 - accuracy: 0.1424 - auc: 0.9515 - macro_f1: 0.5959 - val_loss: 0.5181 - val_accuracy: 0.0460 - val_auc: 0.7444 - val_macro_f1: 0.2154 - 4s/epoch - 12ms/step\n",
      "Epoch 80/135\n",
      "313/313 - 5s - loss: 0.2136 - accuracy: 0.1407 - auc: 0.9521 - macro_f1: 0.6006 - val_loss: 0.5330 - val_accuracy: 0.0475 - val_auc: 0.7456 - val_macro_f1: 0.2148 - 5s/epoch - 15ms/step\n",
      "Epoch 81/135\n",
      "313/313 - 4s - loss: 0.2105 - accuracy: 0.1371 - auc: 0.9538 - macro_f1: 0.6060 - val_loss: 0.5280 - val_accuracy: 0.0465 - val_auc: 0.7458 - val_macro_f1: 0.2155 - 4s/epoch - 12ms/step\n",
      "Epoch 82/135\n",
      "313/313 - 4s - loss: 0.2126 - accuracy: 0.1386 - auc: 0.9526 - macro_f1: 0.6017 - val_loss: 0.5298 - val_accuracy: 0.0465 - val_auc: 0.7482 - val_macro_f1: 0.2155 - 4s/epoch - 12ms/step\n",
      "Epoch 83/135\n",
      "313/313 - 4s - loss: 0.2111 - accuracy: 0.1381 - auc: 0.9534 - macro_f1: 0.6067 - val_loss: 0.5292 - val_accuracy: 0.0490 - val_auc: 0.7438 - val_macro_f1: 0.2143 - 4s/epoch - 12ms/step\n",
      "Epoch 84/135\n",
      "313/313 - 4s - loss: 0.2075 - accuracy: 0.1457 - auc: 0.9554 - macro_f1: 0.6117 - val_loss: 0.5397 - val_accuracy: 0.0475 - val_auc: 0.7385 - val_macro_f1: 0.2092 - 4s/epoch - 12ms/step\n",
      "Epoch 85/135\n",
      "313/313 - 5s - loss: 0.2116 - accuracy: 0.1420 - auc: 0.9534 - macro_f1: 0.6035 - val_loss: 0.5309 - val_accuracy: 0.0485 - val_auc: 0.7433 - val_macro_f1: 0.2172 - 5s/epoch - 16ms/step\n",
      "Epoch 86/135\n",
      "313/313 - 4s - loss: 0.2071 - accuracy: 0.1392 - auc: 0.9556 - macro_f1: 0.6116 - val_loss: 0.5365 - val_accuracy: 0.0455 - val_auc: 0.7460 - val_macro_f1: 0.2138 - 4s/epoch - 12ms/step\n",
      "Epoch 87/135\n",
      "313/313 - 4s - loss: 0.2067 - accuracy: 0.1503 - auc: 0.9558 - macro_f1: 0.6102 - val_loss: 0.5446 - val_accuracy: 0.0465 - val_auc: 0.7466 - val_macro_f1: 0.2114 - 4s/epoch - 12ms/step\n",
      "Epoch 88/135\n",
      "313/313 - 5s - loss: 0.2057 - accuracy: 0.1444 - auc: 0.9565 - macro_f1: 0.6147 - val_loss: 0.5409 - val_accuracy: 0.0480 - val_auc: 0.7416 - val_macro_f1: 0.2115 - 5s/epoch - 14ms/step\n",
      "Epoch 89/135\n",
      "313/313 - 4s - loss: 0.2051 - accuracy: 0.1431 - auc: 0.9565 - macro_f1: 0.6099 - val_loss: 0.5369 - val_accuracy: 0.0500 - val_auc: 0.7430 - val_macro_f1: 0.2131 - 4s/epoch - 12ms/step\n",
      "Epoch 90/135\n",
      "313/313 - 5s - loss: 0.2049 - accuracy: 0.1453 - auc: 0.9568 - macro_f1: 0.6166 - val_loss: 0.5463 - val_accuracy: 0.0495 - val_auc: 0.7377 - val_macro_f1: 0.2074 - 5s/epoch - 15ms/step\n",
      "Epoch 91/135\n",
      "313/313 - 4s - loss: 0.2048 - accuracy: 0.1515 - auc: 0.9567 - macro_f1: 0.6146 - val_loss: 0.5329 - val_accuracy: 0.0475 - val_auc: 0.7435 - val_macro_f1: 0.2102 - 4s/epoch - 12ms/step\n",
      "Epoch 92/135\n",
      "313/313 - 4s - loss: 0.2050 - accuracy: 0.1523 - auc: 0.9567 - macro_f1: 0.6150 - val_loss: 0.5453 - val_accuracy: 0.0505 - val_auc: 0.7401 - val_macro_f1: 0.2113 - 4s/epoch - 12ms/step\n",
      "Epoch 93/135\n",
      "313/313 - 4s - loss: 0.2059 - accuracy: 0.1488 - auc: 0.9563 - macro_f1: 0.6150 - val_loss: 0.5362 - val_accuracy: 0.0480 - val_auc: 0.7377 - val_macro_f1: 0.2112 - 4s/epoch - 12ms/step\n",
      "Epoch 94/135\n",
      "313/313 - 5s - loss: 0.2011 - accuracy: 0.1525 - auc: 0.9585 - macro_f1: 0.6203 - val_loss: 0.5423 - val_accuracy: 0.0485 - val_auc: 0.7412 - val_macro_f1: 0.2104 - 5s/epoch - 14ms/step\n",
      "Epoch 95/135\n",
      "313/313 - 5s - loss: 0.2008 - accuracy: 0.1483 - auc: 0.9587 - macro_f1: 0.6239 - val_loss: 0.5379 - val_accuracy: 0.0510 - val_auc: 0.7422 - val_macro_f1: 0.2095 - 5s/epoch - 15ms/step\n",
      "Epoch 96/135\n",
      "313/313 - 4s - loss: 0.2002 - accuracy: 0.1548 - auc: 0.9591 - macro_f1: 0.6239 - val_loss: 0.5476 - val_accuracy: 0.0480 - val_auc: 0.7378 - val_macro_f1: 0.2096 - 4s/epoch - 12ms/step\n",
      "Epoch 97/135\n",
      "313/313 - 4s - loss: 0.2025 - accuracy: 0.1491 - auc: 0.9581 - macro_f1: 0.6233 - val_loss: 0.5660 - val_accuracy: 0.0455 - val_auc: 0.7357 - val_macro_f1: 0.2080 - 4s/epoch - 12ms/step\n",
      "Epoch 98/135\n",
      "313/313 - 4s - loss: 0.1988 - accuracy: 0.1554 - auc: 0.9597 - macro_f1: 0.6278 - val_loss: 0.5505 - val_accuracy: 0.0500 - val_auc: 0.7438 - val_macro_f1: 0.2066 - 4s/epoch - 14ms/step\n",
      "Epoch 99/135\n",
      "313/313 - 4s - loss: 0.1989 - accuracy: 0.1542 - auc: 0.9595 - macro_f1: 0.6256 - val_loss: 0.5551 - val_accuracy: 0.0475 - val_auc: 0.7412 - val_macro_f1: 0.2109 - 4s/epoch - 12ms/step\n",
      "Epoch 100/135\n",
      "313/313 - 4s - loss: 0.1986 - accuracy: 0.1540 - auc: 0.9596 - macro_f1: 0.6261 - val_loss: 0.5442 - val_accuracy: 0.0500 - val_auc: 0.7401 - val_macro_f1: 0.2088 - 4s/epoch - 12ms/step\n",
      "Epoch 101/135\n",
      "313/313 - 4s - loss: 0.1983 - accuracy: 0.1537 - auc: 0.9599 - macro_f1: 0.6251 - val_loss: 0.5581 - val_accuracy: 0.0480 - val_auc: 0.7374 - val_macro_f1: 0.2098 - 4s/epoch - 12ms/step\n",
      "Epoch 102/135\n",
      "313/313 - 4s - loss: 0.1972 - accuracy: 0.1558 - auc: 0.9604 - macro_f1: 0.6274 - val_loss: 0.5617 - val_accuracy: 0.0490 - val_auc: 0.7378 - val_macro_f1: 0.2068 - 4s/epoch - 12ms/step\n",
      "Epoch 103/135\n",
      "313/313 - 5s - loss: 0.1959 - accuracy: 0.1570 - auc: 0.9611 - macro_f1: 0.6307 - val_loss: 0.5542 - val_accuracy: 0.0495 - val_auc: 0.7358 - val_macro_f1: 0.2042 - 5s/epoch - 15ms/step\n",
      "Epoch 104/135\n",
      "313/313 - 4s - loss: 0.1962 - accuracy: 0.1558 - auc: 0.9609 - macro_f1: 0.6320 - val_loss: 0.5506 - val_accuracy: 0.0490 - val_auc: 0.7356 - val_macro_f1: 0.2077 - 4s/epoch - 12ms/step\n",
      "Epoch 105/135\n",
      "313/313 - 5s - loss: 0.1940 - accuracy: 0.1570 - auc: 0.9616 - macro_f1: 0.6336 - val_loss: 0.5690 - val_accuracy: 0.0500 - val_auc: 0.7362 - val_macro_f1: 0.2063 - 5s/epoch - 16ms/step\n",
      "Epoch 106/135\n",
      "313/313 - 4s - loss: 0.1934 - accuracy: 0.1587 - auc: 0.9622 - macro_f1: 0.6374 - val_loss: 0.5635 - val_accuracy: 0.0500 - val_auc: 0.7353 - val_macro_f1: 0.2068 - 4s/epoch - 12ms/step\n",
      "Epoch 107/135\n",
      "313/313 - 4s - loss: 0.1919 - accuracy: 0.1613 - auc: 0.9627 - macro_f1: 0.6331 - val_loss: 0.5583 - val_accuracy: 0.0500 - val_auc: 0.7358 - val_macro_f1: 0.2069 - 4s/epoch - 12ms/step\n",
      "Epoch 108/135\n",
      "313/313 - 4s - loss: 0.1928 - accuracy: 0.1649 - auc: 0.9623 - macro_f1: 0.6359 - val_loss: 0.5673 - val_accuracy: 0.0505 - val_auc: 0.7322 - val_macro_f1: 0.2050 - 4s/epoch - 12ms/step\n",
      "Epoch 109/135\n",
      "313/313 - 4s - loss: 0.1926 - accuracy: 0.1564 - auc: 0.9623 - macro_f1: 0.6338 - val_loss: 0.5689 - val_accuracy: 0.0500 - val_auc: 0.7406 - val_macro_f1: 0.2052 - 4s/epoch - 12ms/step\n",
      "Epoch 110/135\n",
      "313/313 - 4s - loss: 0.1920 - accuracy: 0.1640 - auc: 0.9626 - macro_f1: 0.6362 - val_loss: 0.5718 - val_accuracy: 0.0505 - val_auc: 0.7413 - val_macro_f1: 0.2063 - 4s/epoch - 12ms/step\n",
      "Epoch 111/135\n",
      "313/313 - 4s - loss: 0.1896 - accuracy: 0.1629 - auc: 0.9638 - macro_f1: 0.6422 - val_loss: 0.5633 - val_accuracy: 0.0490 - val_auc: 0.7342 - val_macro_f1: 0.2077 - 4s/epoch - 14ms/step\n",
      "Epoch 112/135\n",
      "313/313 - 4s - loss: 0.1908 - accuracy: 0.1633 - auc: 0.9632 - macro_f1: 0.6381 - val_loss: 0.5922 - val_accuracy: 0.0485 - val_auc: 0.7310 - val_macro_f1: 0.2075 - 4s/epoch - 12ms/step\n",
      "Epoch 113/135\n",
      "313/313 - 5s - loss: 0.1896 - accuracy: 0.1634 - auc: 0.9635 - macro_f1: 0.6423 - val_loss: 0.5747 - val_accuracy: 0.0470 - val_auc: 0.7370 - val_macro_f1: 0.2050 - 5s/epoch - 15ms/step\n",
      "Epoch 114/135\n",
      "313/313 - 4s - loss: 0.1899 - accuracy: 0.1650 - auc: 0.9639 - macro_f1: 0.6407 - val_loss: 0.5729 - val_accuracy: 0.0455 - val_auc: 0.7355 - val_macro_f1: 0.2043 - 4s/epoch - 12ms/step\n",
      "Epoch 115/135\n",
      "313/313 - 5s - loss: 0.1887 - accuracy: 0.1656 - auc: 0.9641 - macro_f1: 0.6420 - val_loss: 0.5725 - val_accuracy: 0.0490 - val_auc: 0.7336 - val_macro_f1: 0.2046 - 5s/epoch - 15ms/step\n",
      "Epoch 116/135\n",
      "313/313 - 5s - loss: 0.1868 - accuracy: 0.1679 - auc: 0.9649 - macro_f1: 0.6484 - val_loss: 0.5806 - val_accuracy: 0.0495 - val_auc: 0.7355 - val_macro_f1: 0.2040 - 5s/epoch - 17ms/step\n",
      "Epoch 117/135\n",
      "313/313 - 4s - loss: 0.1847 - accuracy: 0.1672 - auc: 0.9658 - macro_f1: 0.6525 - val_loss: 0.5912 - val_accuracy: 0.0505 - val_auc: 0.7275 - val_macro_f1: 0.1985 - 4s/epoch - 12ms/step\n",
      "Epoch 118/135\n",
      "313/313 - 4s - loss: 0.1841 - accuracy: 0.1735 - auc: 0.9661 - macro_f1: 0.6507 - val_loss: 0.5768 - val_accuracy: 0.0480 - val_auc: 0.7351 - val_macro_f1: 0.2051 - 4s/epoch - 12ms/step\n",
      "Epoch 119/135\n",
      "313/313 - 4s - loss: 0.1858 - accuracy: 0.1669 - auc: 0.9653 - macro_f1: 0.6492 - val_loss: 0.5736 - val_accuracy: 0.0510 - val_auc: 0.7337 - val_macro_f1: 0.2040 - 4s/epoch - 12ms/step\n",
      "Epoch 120/135\n",
      "313/313 - 4s - loss: 0.1840 - accuracy: 0.1723 - auc: 0.9662 - macro_f1: 0.6532 - val_loss: 0.5840 - val_accuracy: 0.0480 - val_auc: 0.7349 - val_macro_f1: 0.2064 - 4s/epoch - 14ms/step\n",
      "Epoch 121/135\n",
      "313/313 - 4s - loss: 0.1826 - accuracy: 0.1791 - auc: 0.9667 - macro_f1: 0.6545 - val_loss: 0.5843 - val_accuracy: 0.0540 - val_auc: 0.7369 - val_macro_f1: 0.2025 - 4s/epoch - 12ms/step\n",
      "Epoch 122/135\n",
      "313/313 - 4s - loss: 0.1804 - accuracy: 0.1807 - auc: 0.9674 - macro_f1: 0.6588 - val_loss: 0.5948 - val_accuracy: 0.0500 - val_auc: 0.7347 - val_macro_f1: 0.1988 - 4s/epoch - 12ms/step\n",
      "Epoch 123/135\n",
      "313/313 - 4s - loss: 0.1806 - accuracy: 0.1775 - auc: 0.9675 - macro_f1: 0.6555 - val_loss: 0.6003 - val_accuracy: 0.0555 - val_auc: 0.7359 - val_macro_f1: 0.2013 - 4s/epoch - 12ms/step\n",
      "Epoch 124/135\n",
      "313/313 - 4s - loss: 0.1798 - accuracy: 0.1795 - auc: 0.9678 - macro_f1: 0.6577 - val_loss: 0.6014 - val_accuracy: 0.0545 - val_auc: 0.7335 - val_macro_f1: 0.2019 - 4s/epoch - 12ms/step\n",
      "Epoch 125/135\n",
      "313/313 - 6s - loss: 0.1797 - accuracy: 0.1796 - auc: 0.9678 - macro_f1: 0.6610 - val_loss: 0.6007 - val_accuracy: 0.0540 - val_auc: 0.7293 - val_macro_f1: 0.2036 - 6s/epoch - 18ms/step\n",
      "Epoch 126/135\n",
      "313/313 - 4s - loss: 0.1784 - accuracy: 0.1849 - auc: 0.9682 - macro_f1: 0.6593 - val_loss: 0.5906 - val_accuracy: 0.0535 - val_auc: 0.7361 - val_macro_f1: 0.2054 - 4s/epoch - 12ms/step\n",
      "Epoch 127/135\n",
      "313/313 - 4s - loss: 0.1790 - accuracy: 0.1811 - auc: 0.9680 - macro_f1: 0.6593 - val_loss: 0.5964 - val_accuracy: 0.0600 - val_auc: 0.7356 - val_macro_f1: 0.2027 - 4s/epoch - 12ms/step\n",
      "Epoch 128/135\n",
      "313/313 - 4s - loss: 0.1789 - accuracy: 0.1844 - auc: 0.9681 - macro_f1: 0.6596 - val_loss: 0.6020 - val_accuracy: 0.0555 - val_auc: 0.7349 - val_macro_f1: 0.2009 - 4s/epoch - 12ms/step\n",
      "Epoch 129/135\n",
      "313/313 - 4s - loss: 0.1802 - accuracy: 0.1816 - auc: 0.9674 - macro_f1: 0.6590 - val_loss: 0.5864 - val_accuracy: 0.0525 - val_auc: 0.7332 - val_macro_f1: 0.2023 - 4s/epoch - 12ms/step\n",
      "Epoch 130/135\n",
      "313/313 - 4s - loss: 0.1758 - accuracy: 0.1875 - auc: 0.9693 - macro_f1: 0.6649 - val_loss: 0.6034 - val_accuracy: 0.0510 - val_auc: 0.7311 - val_macro_f1: 0.2008 - 4s/epoch - 14ms/step\n",
      "Epoch 131/135\n",
      "313/313 - 4s - loss: 0.1776 - accuracy: 0.1884 - auc: 0.9685 - macro_f1: 0.6609 - val_loss: 0.6018 - val_accuracy: 0.0535 - val_auc: 0.7307 - val_macro_f1: 0.2003 - 4s/epoch - 12ms/step\n",
      "Epoch 132/135\n",
      "313/313 - 5s - loss: 0.1741 - accuracy: 0.1928 - auc: 0.9698 - macro_f1: 0.6700 - val_loss: 0.6051 - val_accuracy: 0.0525 - val_auc: 0.7318 - val_macro_f1: 0.2004 - 5s/epoch - 15ms/step\n",
      "Epoch 133/135\n",
      "313/313 - 4s - loss: 0.1733 - accuracy: 0.1953 - auc: 0.9704 - macro_f1: 0.6714 - val_loss: 0.6182 - val_accuracy: 0.0550 - val_auc: 0.7340 - val_macro_f1: 0.1997 - 4s/epoch - 12ms/step\n",
      "Epoch 134/135\n",
      "313/313 - 4s - loss: 0.1731 - accuracy: 0.1994 - auc: 0.9704 - macro_f1: 0.6736 - val_loss: 0.6340 - val_accuracy: 0.0550 - val_auc: 0.7287 - val_macro_f1: 0.2018 - 4s/epoch - 12ms/step\n",
      "Epoch 135/135\n",
      "313/313 - 5s - loss: 0.1720 - accuracy: 0.2009 - auc: 0.9704 - macro_f1: 0.6727 - val_loss: 0.6142 - val_accuracy: 0.0535 - val_auc: 0.7329 - val_macro_f1: 0.2016 - 5s/epoch - 16ms/step\n"
     ]
    }
   ],
   "source": [
    "history=model.fit(X_train, Y_train, validation_data=(X_test, Y_test), batch_size=32, epochs=135, verbose = 2, callbacks=[model_checkpoint_callback])"
   ]
  },
  {
   "cell_type": "code",
   "execution_count": null,
   "metadata": {
    "id": "BngntDWxydr1"
   },
   "outputs": [],
   "source": [
    "def apply_threshold_in_predictions(Y_pred, threshold):\n",
    "  for arr in Y_pred:\n",
    "    j=0\n",
    "    for _ in arr:\n",
    "      if(_>=threshold):\n",
    "        arr[j] = 1\n",
    "      else:\n",
    "        arr[j] = 0\n",
    "      j=j+1\n",
    "  \n",
    "  return Y_pred"
   ]
  },
  {
   "cell_type": "code",
   "execution_count": null,
   "metadata": {
    "id": "lAsmGzqpygPv"
   },
   "outputs": [],
   "source": [
    "check_model = tf.keras.models.load_model('/content/drive/MyDrive/Audio_Tagging_MLSP/RNN_model/RNN_model.h5',custom_objects={\"macro_f1\":macro_f1})"
   ]
  },
  {
   "cell_type": "code",
   "execution_count": null,
   "metadata": {
    "colab": {
     "base_uri": "https://localhost:8080/"
    },
    "id": "j1G-PJt8yu84",
    "outputId": "0ec5023a-66aa-4412-b586-14bb9bafac69"
   },
   "outputs": [
    {
     "name": "stdout",
     "output_type": "stream",
     "text": [
      "63/63 [==============================] - 1s 8ms/step\n"
     ]
    }
   ],
   "source": [
    "Y_pred = check_model.predict(X_test)"
   ]
  },
  {
   "cell_type": "code",
   "execution_count": null,
   "metadata": {
    "colab": {
     "base_uri": "https://localhost:8080/"
    },
    "id": "pO9FE2XCyv5A",
    "outputId": "b948fa8f-cf6b-453a-8064-646901c67349"
   },
   "outputs": [
    {
     "name": "stdout",
     "output_type": "stream",
     "text": [
      "[[0. 0. 0. ... 0. 1. 0.]\n",
      " [0. 0. 0. ... 0. 0. 0.]\n",
      " [0. 1. 0. ... 0. 1. 0.]\n",
      " ...\n",
      " [0. 0. 0. ... 0. 1. 0.]\n",
      " [0. 0. 0. ... 0. 1. 0.]\n",
      " [0. 0. 1. ... 0. 1. 0.]]\n",
      "              precision    recall  f1-score   support\n",
      "\n",
      "           0       0.22      0.19      0.20       392\n",
      "           1       0.41      0.13      0.19       436\n",
      "           2       0.22      0.18      0.20       274\n",
      "           3       0.24      0.20      0.22       444\n",
      "           4       0.22      0.18      0.19       306\n",
      "           5       0.26      0.14      0.18       221\n",
      "           6       0.27      0.32      0.29       130\n",
      "           7       0.14      0.09      0.11       143\n",
      "           8       0.63      0.91      0.75      1246\n",
      "           9       0.08      0.03      0.04       151\n",
      "\n",
      "   micro avg       0.44      0.41      0.43      3743\n",
      "   macro avg       0.27      0.24      0.24      3743\n",
      "weighted avg       0.38      0.41      0.38      3743\n",
      " samples avg       0.45      0.38      0.39      3743\n",
      "\n"
     ]
    },
    {
     "name": "stderr",
     "output_type": "stream",
     "text": [
      "/usr/local/lib/python3.7/dist-packages/sklearn/metrics/_classification.py:1318: UndefinedMetricWarning: Precision and F-score are ill-defined and being set to 0.0 in samples with no predicted labels. Use `zero_division` parameter to control this behavior.\n",
      "  _warn_prf(average, modifier, msg_start, len(result))\n"
     ]
    }
   ],
   "source": [
    "from sklearn.metrics import classification_report\n",
    "print(apply_threshold_in_predictions(Y_pred, 0.1))\n",
    "print(classification_report(Y_test, Y_pred))"
   ]
  },
  {
   "cell_type": "code",
   "execution_count": null,
   "metadata": {
    "colab": {
     "base_uri": "https://localhost:8080/",
     "height": 573
    },
    "id": "NhgUbdaQzEmx",
    "outputId": "ea370fd2-37f7-4e34-832d-d2185c7cae62"
   },
   "outputs": [
    {
     "data": {
      "image/png": "[encoded data removed]",
      "text/plain": [
       "<Figure size 432x288 with 1 Axes>"
      ]
     },
     "metadata": {
      "needs_background": "light"
     },
     "output_type": "display_data"
    },
    {
     "data": {
      "image/png": "[encoded data removed]",
      "text/plain": [
       "<Figure size 432x288 with 1 Axes>"
      ]
     },
     "metadata": {
      "needs_background": "light"
     },
     "output_type": "display_data"
    }
   ],
   "source": [
    "from matplotlib import pyplot as plt\n",
    "model.metrics_names\n",
    "plt.plot(history.history['auc'])\n",
    "plt.plot(history.history['val_auc'])\n",
    "plt.title('model training')\n",
    "plt.ylabel('AUC')\n",
    "plt.xlabel('epoch')\n",
    "plt.legend(['train', 'val'], loc='upper left')\n",
    "plt.show()\n",
    "plt.plot(history.history['loss'])\n",
    "plt.plot(history.history['val_loss'])\n",
    "plt.title('model loss')\n",
    "plt.ylabel('loss')\n",
    "plt.xlabel('epoch')\n",
    "plt.legend(['train', 'val'], loc='upper left')\n",
    "plt.show()"
   ]
  }
 ],
 "metadata": {
  "accelerator": "GPU",
  "colab": {
   "provenance": []
  },
  "gpuClass": "standard",
  "kernelspec": {
   "display_name": "Python 3 (ipykernel)",
   "language": "python",
   "name": "python3"
  },
  "language_info": {
   "codemirror_mode": {
    "name": "ipython",
    "version": 3
   },
   "file_extension": ".py",
   "mimetype": "text/x-python",
   "name": "python",
   "nbconvert_exporter": "python",
   "pygments_lexer": "ipython3",
   "version": "3.9.12"
  }
 },
 "nbformat": 4,
 "nbformat_minor": 1
}
